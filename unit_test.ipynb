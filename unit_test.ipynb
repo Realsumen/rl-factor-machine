{
 "cells": [
  {
   "cell_type": "markdown",
   "id": "c9f16224",
   "metadata": {},
   "source": [
    "### 这个 notebook 用来读取文件，并测试一些方法"
   ]
  },
  {
   "cell_type": "code",
   "execution_count": 3,
   "id": "bcb46bb0",
   "metadata": {},
   "outputs": [
    {
     "name": "stdout",
     "output_type": "stream",
     "text": [
      "📄 所有 Python 文件内容已写入 src.txt（共 14 个文件）\n"
     ]
    }
   ],
   "source": [
    "import os\n",
    "import numpy as np\n",
    "\n",
    "def get_all_py_files(root_dir: str) -> list:\n",
    "    \"\"\"\n",
    "    获取指定目录及其子目录下的所有 .py 文件路径。\n",
    "\n",
    "    Args:\n",
    "        root_dir (str): 起始目录路径。\n",
    "\n",
    "    Returns:\n",
    "        list: 包含所有 .py 文件完整路径的列表。\n",
    "    \"\"\"\n",
    "    py_files = []\n",
    "    for dirpath, _, filenames in os.walk(root_dir):\n",
    "        for file in filenames:\n",
    "            if file.endswith(\".py\"):\n",
    "                py_files.append(os.path.join(dirpath, file))\n",
    "    return py_files\n",
    "\n",
    "def write_all_py_contents_to_output(py_files: list, output_path: str = \"src.txt\") -> None:\n",
    "    \"\"\"\n",
    "    将所有 .py 文件的内容写入一个文本文件中，并打印文件名作为分隔。\n",
    "\n",
    "    Args:\n",
    "        py_files (list): .py 文件路径列表。\n",
    "        output_path (str): 输出文件路径。\n",
    "    \"\"\"\n",
    "    with open(output_path, \"w\", encoding=\"utf-8\") as out_file:\n",
    "        for path in py_files:\n",
    "            out_file.write(f\"{'=' * 80}\\n\")\n",
    "            out_file.write(f\"File: {path}\\n\")\n",
    "            out_file.write(f\"{'-' * 80}\\n\")\n",
    "            try:\n",
    "                with open(path, \"r\", encoding=\"utf-8\") as f:\n",
    "                    out_file.write(f.read())\n",
    "            except Exception as e:\n",
    "                out_file.write(f\"⚠️ Error reading {path}: {e}\\n\")\n",
    "            out_file.write(\"\\n\\n\")\n",
    "\n",
    "if True:\n",
    "    root_directory = \".\"  # 当前目录\n",
    "    all_py_files = get_all_py_files(root_directory)\n",
    "    write_all_py_contents_to_output(all_py_files)\n",
    "    print(f\"📄 所有 Python 文件内容已写入 src.txt（共 {len(all_py_files)} 个文件）\")\n",
    "\n"
   ]
  },
  {
   "cell_type": "code",
   "execution_count": 17,
   "id": "65436b65",
   "metadata": {},
   "outputs": [],
   "source": [
    "import importlib\n",
    "from utility import set_random_seed\n",
    "\n",
    "def reload_components():\n",
    "    \"\"\"\n",
    "    重新加载以下模块，以便在开发过程中即时生效：\n",
    "      - data.load_market_data\n",
    "      - tokenizer.AlphaTokenizer\n",
    "      - combination.AlphaCombinationModel\n",
    "      - envs.AlphaGenerationEnv\n",
    "      - generator.RLAlphaGenerator\n",
    "    \"\"\"\n",
    "    import data, tokenizer, combination, alpha_generation_env, generator\n",
    "\n",
    "    importlib.reload(data)\n",
    "    importlib.reload(tokenizer)\n",
    "    importlib.reload(combination)\n",
    "    importlib.reload(alpha_generation_env)\n",
    "    importlib.reload(generator)\n",
    "\n",
    "    # 重新绑定到本地名称（可选）\n",
    "    from data import load_market_data\n",
    "    from tokenizer import AlphaTokenizer\n",
    "    from combination import AlphaCombinationModel\n",
    "    from alpha_generation_env import AlphaGenerationEnv\n",
    "    from generator import RLAlphaGenerator\n",
    "\n",
    "    return {\n",
    "        \"load_market_data\": load_market_data,\n",
    "        \"AlphaTokenizer\": AlphaTokenizer,\n",
    "        \"AlphaCombinationModel\": AlphaCombinationModel,\n",
    "        \"AlphaGenerationEnv\": AlphaGenerationEnv,\n",
    "        \"RLAlphaGenerator\": RLAlphaGenerator,\n",
    "    }\n",
    "\n",
    "components = reload_components()\n"
   ]
  },
  {
   "cell_type": "markdown",
   "id": "91ddfd39",
   "metadata": {},
   "source": [
    "### 1.测试 AlphaCombinationModel._compute_alpha_from_expr"
   ]
  },
  {
   "cell_type": "code",
   "execution_count": 18,
   "id": "70fb8b94",
   "metadata": {},
   "outputs": [
    {
     "name": "stdout",
     "output_type": "stream",
     "text": [
      "alpha shape: (64861,)\n",
      "alpha sample: [2971.82 2971.85 2971.83 2971.81 2971.81]\n"
     ]
    }
   ],
   "source": [
    "from combination import AlphaCombinationModel\n",
    "from data import load_market_data\n",
    "\n",
    "df = load_market_data()\n",
    "model = AlphaCombinationModel()\n",
    "model.inject_data(df, target_col='target')\n",
    "\n",
    "# 表达式：close 的 100 秒均值\n",
    "expr = \"close 100 ts_mean\"\n",
    "alpha = model._compute_alpha_from_expr(expr)\n",
    "\n",
    "print(\"alpha shape:\", alpha.shape)\n",
    "print(\"alpha sample:\", alpha[~np.isnan(alpha)][:5])\n"
   ]
  },
  {
   "cell_type": "markdown",
   "id": "dc0bc3e9",
   "metadata": {},
   "source": [
    "###  2. 测试 AlphaCombinationModel.add_alpha_expr"
   ]
  },
  {
   "cell_type": "code",
   "execution_count": 19,
   "id": "dc603c3d",
   "metadata": {},
   "outputs": [
    {
     "name": "stdout",
     "output_type": "stream",
     "text": [
      "该因子的 IC 为： 0.017208891053807192\n",
      "当前池中因子数： 1\n"
     ]
    }
   ],
   "source": [
    "ic = model.add_alpha_expr(\"high low sub 100 ts_max\")\n",
    "print(\"该因子的 IC 为：\", ic)\n",
    "print(\"当前池中因子数：\", len(model.alphas))\n"
   ]
  },
  {
   "cell_type": "markdown",
   "id": "7aba8fd7",
   "metadata": {},
   "source": [
    "### 3. 测试 AlphaTokenizer.encode / decode"
   ]
  },
  {
   "cell_type": "code",
   "execution_count": 20,
   "id": "dda7d163",
   "metadata": {},
   "outputs": [
    {
     "name": "stdout",
     "output_type": "stream",
     "text": [
      "Token IDs: [1, 6, 10, 32, 2]\n",
      "Decoded expr: close 5 ts_mean\n"
     ]
    }
   ],
   "source": [
    "from tokenizer import AlphaTokenizer\n",
    "\n",
    "tokenizer = AlphaTokenizer()\n",
    "\n",
    "expr = \"close 5 ts_mean\"\n",
    "ids = tokenizer.encode(expr)\n",
    "decoded = tokenizer.decode(ids)\n",
    "\n",
    "print(\"Token IDs:\", ids)\n",
    "print(\"Decoded expr:\", decoded)\n"
   ]
  },
  {
   "cell_type": "markdown",
   "id": "a1899091",
   "metadata": {},
   "source": [
    "### 4. 测试 AlphaGenerationEnv.reset / step"
   ]
  },
  {
   "cell_type": "code",
   "execution_count": 21,
   "id": "5018150f",
   "metadata": {},
   "outputs": [
    {
     "name": "stdout",
     "output_type": "stream",
     "text": [
      "初始状态 token IDs: [1]\n",
      "新状态: [1, 4]\n",
      "Reward: 0.0 Done: False\n"
     ]
    }
   ],
   "source": [
    "from alpha_generation_env import AlphaGenerationEnv\n",
    "from combination import AlphaCombinationModel\n",
    "from tokenizer import AlphaTokenizer\n",
    "from data import load_market_data\n",
    "\n",
    "df = load_market_data()\n",
    "combo = AlphaCombinationModel()\n",
    "combo.inject_data(df, target_col='target')\n",
    "tokenizer = AlphaTokenizer()\n",
    "env = AlphaGenerationEnv(combo, tokenizer)\n",
    "\n",
    "obs = env.reset()\n",
    "print(\"初始状态 token IDs:\", obs)\n",
    "\n",
    "valid = env.valid_actions()\n",
    "action = valid[1]\n",
    "obs2, reward, done, info = env.step(action)\n",
    "print(\"新状态:\", obs2)\n",
    "print(\"Reward:\", reward, \"Done:\", done)\n"
   ]
  },
  {
   "cell_type": "markdown",
   "id": "35f1291c",
   "metadata": {},
   "source": [
    "### 5. 测试 PolicyNetwork / ValueNetwork 输出维度"
   ]
  },
  {
   "cell_type": "code",
   "execution_count": 10,
   "id": "d90c5b09",
   "metadata": {},
   "outputs": [
    {
     "name": "stdout",
     "output_type": "stream",
     "text": [
      "Policy logits shape: torch.Size([1, 50])\n",
      "Value estimate shape: torch.Size([1])\n"
     ]
    }
   ],
   "source": [
    "import torch\n",
    "from generator import PolicyNetwork, ValueNetwork\n",
    "\n",
    "vocab_size = 50\n",
    "seq_len = 6\n",
    "hidden_dim = 64\n",
    "device = \"cpu\"\n",
    "\n",
    "x = torch.randint(0, vocab_size, (1, seq_len))  # batch_size=1\n",
    "policy = PolicyNetwork(vocab_size, hidden_dim).to(device)\n",
    "value = ValueNetwork(vocab_size, hidden_dim).to(device)\n",
    "\n",
    "h0_p = policy.init_hidden(1, device)\n",
    "logits, _ = policy(x, h0_p)\n",
    "print(\"Policy logits shape:\", logits.shape)  # 应为 (1, vocab_size)\n",
    "\n",
    "h0_v = value.init_hidden(1, device)\n",
    "v, _ = value(x, h0_v)\n",
    "print(\"Value estimate shape:\", v.shape)      # 应为 (1,)\n"
   ]
  },
  {
   "cell_type": "markdown",
   "id": "de9b7e9d",
   "metadata": {},
   "source": [
    "### 6. 测试 RLAlphaGenerator._collect_trajectories"
   ]
  },
  {
   "cell_type": "code",
   "execution_count": 24,
   "id": "f9518107",
   "metadata": {},
   "outputs": [
    {
     "name": "stderr",
     "output_type": "stream",
     "text": [
      "/Users/sumen/Documents/workspace/25summer/.venv/lib/python3.13/site-packages/numpy/_core/fromnumeric.py:86: RuntimeWarning: overflow encountered in reduce\n",
      "  return ufunc.reduce(obj, axis, dtype, out, **passkwargs)\n",
      "/Users/sumen/Documents/workspace/25summer/.venv/lib/python3.13/site-packages/numpy/_core/fromnumeric.py:86: RuntimeWarning: invalid value encountered in reduce\n",
      "  return ufunc.reduce(obj, axis, dtype, out, **passkwargs)\n"
     ]
    },
    {
     "name": "stdout",
     "output_type": "stream",
     "text": [
      "Sample states shape: torch.Size([1280, 20])\n",
      "Sample actions shape: torch.Size([1280])\n",
      "Sample rewards (returns): torch.Size([1280]) tensor([-0.0044, -0.0044, -0.0044,  ...,  0.0000,  0.0000,  0.0000])\n"
     ]
    }
   ],
   "source": [
    "from generator import RLAlphaGenerator\n",
    "from alpha_generation_env import AlphaGenerationEnv\n",
    "from combination import AlphaCombinationModel\n",
    "from tokenizer import AlphaTokenizer\n",
    "from data import load_market_data\n",
    "from utility import set_random_seed\n",
    "\n",
    "# reload_components()\n",
    "\n",
    "set_random_seed(10)\n",
    "\n",
    "df = load_market_data()\n",
    "combo = AlphaCombinationModel()\n",
    "combo.inject_data(df, \"target\")\n",
    "tokenizer = AlphaTokenizer()\n",
    "env = AlphaGenerationEnv(combo, tokenizer, max_len=20)\n",
    "\n",
    "cfg = dict(\n",
    "    vocab_size=tokenizer.vocab_size,\n",
    "    hidden_dim=1280,\n",
    "    batch_size=1280,\n",
    "    device=\"cpu\",\n",
    ")\n",
    "\n",
    "agent = RLAlphaGenerator(env, cfg)\n",
    "\n",
    "s, a, logp, ret, adv = agent._collect_trajectories()\n",
    "print(\"Sample states shape:\", s.shape)\n",
    "print(\"Sample actions shape:\", a.shape)\n",
    "print(\"Sample rewards (returns):\", ret.shape, ret)\n"
   ]
  },
  {
   "cell_type": "code",
   "execution_count": null,
   "id": "7d4ac801",
   "metadata": {},
   "outputs": [],
   "source": [
    "ret"
   ]
  },
  {
   "cell_type": "markdown",
   "id": "7514e7b8",
   "metadata": {},
   "source": [
    "### 7.测试训练脚本"
   ]
  },
  {
   "cell_type": "code",
   "execution_count": 22,
   "id": "e78f2e5c",
   "metadata": {},
   "outputs": [
    {
     "name": "stdout",
     "output_type": "stream",
     "text": [
      "✔️ 初始环境和 agent 创建完毕\n",
      "采样轨迹 shapes: states=torch.Size([32, 10]), actions=torch.Size([32]), returns=torch.Size([32]), advantages=torch.Size([32])\n",
      "✔️ _collect_trajectories 正常工作\n",
      "✔️ train(num_iterations=2) 完成（无异常抛出）\n",
      "✔️ PolicyNetwork 参数已更新\n"
     ]
    }
   ],
   "source": [
    "from data import load_market_data\n",
    "from combination import AlphaCombinationModel\n",
    "from tokenizer import AlphaTokenizer\n",
    "from alpha_generation_env import AlphaGenerationEnv\n",
    "from generator import RLAlphaGenerator\n",
    "\n",
    "df = load_market_data(path=\"data/rb_20250606_primary.csv\")\n",
    "combo = AlphaCombinationModel(max_pool_size=10)\n",
    "combo.inject_data(df, target_col=\"target\")\n",
    "\n",
    "tokenizer = AlphaTokenizer()\n",
    "env = AlphaGenerationEnv(combo, tokenizer, max_len=10)\n",
    "\n",
    "config = {\n",
    "    \"vocab_size\": tokenizer.vocab_size,\n",
    "    \"hidden_dim\": 16,\n",
    "    \"batch_size\": 32,\n",
    "    \"lr_policy\": 1e-4,\n",
    "    \"lr_value\": 1e-3,\n",
    "    \"gamma\": 0.99,\n",
    "    \"clip_eps\": 0.2,\n",
    "    \"entropy_coef\": 0.0,\n",
    "    \"value_coef\": 0.5,\n",
    "    \"update_epochs\": 1,\n",
    "    \"max_seq_len\": 10,\n",
    "    \"device\": \"cpu\",\n",
    "}\n",
    "\n",
    "agent = RLAlphaGenerator(env, config)\n",
    "print(\"✔️ 初始环境和 agent 创建完毕\")\n",
    "\n",
    "states, actions, old_logps, returns, advantages = agent._collect_trajectories()\n",
    "print(f\"采样轨迹 shapes: states={states.shape}, actions={actions.shape}, returns={returns.shape}, advantages={advantages.shape}\")\n",
    "assert states.shape[0] == config[\"batch_size\"]\n",
    "assert actions.ndim == 1\n",
    "print(\"✔️ _collect_trajectories 正常工作\")\n",
    "\n",
    "# Cell 4: 单次迭代训练测试（无报错即可）\n",
    "# 只跑 2 次迭代，观察控制台输出\n",
    "agent.train(num_iterations=2)\n",
    "print(\"✔️ train(num_iterations=2) 完成（无异常抛出）\")\n",
    "\n",
    "import torch\n",
    "\n",
    "# 再初始化一个新 agent，保存初始 policy 参数快照\n",
    "agent2 = RLAlphaGenerator(env, config)\n",
    "initial = [p.clone() for p in agent2.policy_net.parameters()]\n",
    "\n",
    "agent2.train(num_iterations=1)\n",
    "\n",
    "updated = any(not torch.allclose(p0, p1) for p0, p1 in zip(initial, agent2.policy_net.parameters()))\n",
    "assert updated, \"PolicyNetwork 参数在训练后应当发生更新\"\n",
    "print(\"✔️ PolicyNetwork 参数已更新\")\n"
   ]
  },
  {
   "cell_type": "code",
   "execution_count": null,
   "id": "b9cf7253",
   "metadata": {},
   "outputs": [
    {
     "name": "stdout",
     "output_type": "stream",
     "text": [
      "✔️ PolicyNetwork 参数已更新\n"
     ]
    }
   ],
   "source": []
  }
 ],
 "metadata": {
  "kernelspec": {
   "display_name": "workspace",
   "language": "python",
   "name": "python3"
  },
  "language_info": {
   "codemirror_mode": {
    "name": "ipython",
    "version": 3
   },
   "file_extension": ".py",
   "mimetype": "text/x-python",
   "name": "python",
   "nbconvert_exporter": "python",
   "pygments_lexer": "ipython3",
   "version": "3.11.7"
  }
 },
 "nbformat": 4,
 "nbformat_minor": 5
}
