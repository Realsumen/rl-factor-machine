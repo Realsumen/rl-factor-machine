{
 "cells": [
  {
   "cell_type": "markdown",
   "id": "c9f16224",
   "metadata": {},
   "source": [
    "### 这个 notebook 用来读取文件，并测试所有 方法"
   ]
  },
  {
   "cell_type": "code",
   "execution_count": 5,
   "id": "bcb46bb0",
   "metadata": {},
   "outputs": [
    {
     "name": "stdout",
     "output_type": "stream",
     "text": [
      "📄 所有 Python 文件内容已写入 src.txt（共 10 个文件）\n"
     ]
    }
   ],
   "source": [
    "import os\n",
    "\n",
    "def get_all_py_files(root_dir: str) -> list:\n",
    "    \"\"\"\n",
    "    获取指定目录及其子目录下的所有 .py 文件路径。\n",
    "\n",
    "    Args:\n",
    "        root_dir (str): 起始目录路径。\n",
    "\n",
    "    Returns:\n",
    "        list: 包含所有 .py 文件完整路径的列表。\n",
    "    \"\"\"\n",
    "    py_files = []\n",
    "    for dirpath, _, filenames in os.walk(root_dir):\n",
    "        for file in filenames:\n",
    "            if file.endswith(\".py\"):\n",
    "                py_files.append(os.path.join(dirpath, file))\n",
    "    return py_files\n",
    "\n",
    "def write_all_py_contents_to_output(py_files: list, output_path: str = \"src.txt\") -> None:\n",
    "    \"\"\"\n",
    "    将所有 .py 文件的内容写入一个文本文件中，并打印文件名作为分隔。\n",
    "\n",
    "    Args:\n",
    "        py_files (list): .py 文件路径列表。\n",
    "        output_path (str): 输出文件路径。\n",
    "    \"\"\"\n",
    "    with open(output_path, \"w\", encoding=\"utf-8\") as out_file:\n",
    "        for path in py_files:\n",
    "            out_file.write(f\"{'=' * 80}\\n\")\n",
    "            out_file.write(f\"File: {path}\\n\")\n",
    "            out_file.write(f\"{'-' * 80}\\n\")\n",
    "            try:\n",
    "                with open(path, \"r\", encoding=\"utf-8\") as f:\n",
    "                    out_file.write(f.read())\n",
    "            except Exception as e:\n",
    "                out_file.write(f\"⚠️ Error reading {path}: {e}\\n\")\n",
    "            out_file.write(\"\\n\\n\")\n",
    "\n",
    "if True:\n",
    "    root_directory = \".\"  # 当前目录\n",
    "    all_py_files = get_all_py_files(root_directory)\n",
    "    write_all_py_contents_to_output(all_py_files)\n",
    "    print(f\"📄 所有 Python 文件内容已写入 src.txt（共 {len(all_py_files)} 个文件）\")\n",
    "\n"
   ]
  },
  {
   "cell_type": "code",
   "execution_count": 6,
   "id": "194f4d2f",
   "metadata": {},
   "outputs": [
    {
     "name": "stdout",
     "output_type": "stream",
     "text": [
      "[1, 3, 10, 28, 2]\n",
      "open 5 ts_std\n"
     ]
    }
   ],
   "source": [
    "from tokenizer import AlphaTokenizer\n",
    "\n",
    "tok = AlphaTokenizer()\n",
    "\n",
    "expr = \"open 5 ts_std\"          # 相当于 ts_mean(close, 5)\n",
    "\n",
    "ids = tok.encode(expr)\n",
    "print(ids)        # ➜ [BOS]  对应 id,  ... , [SEP]\n",
    "\n",
    "print(tok.decode(ids))\n"
   ]
  },
  {
   "cell_type": "code",
   "execution_count": null,
   "id": "70fb8b94",
   "metadata": {},
   "outputs": [],
   "source": []
  }
 ],
 "metadata": {
  "kernelspec": {
   "display_name": ".venv",
   "language": "python",
   "name": "python3"
  },
  "language_info": {
   "codemirror_mode": {
    "name": "ipython",
    "version": 3
   },
   "file_extension": ".py",
   "mimetype": "text/x-python",
   "name": "python",
   "nbconvert_exporter": "python",
   "pygments_lexer": "ipython3",
   "version": "3.13.0"
  }
 },
 "nbformat": 4,
 "nbformat_minor": 5
}
