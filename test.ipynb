{
 "cells": [
  {
   "cell_type": "markdown",
   "id": "c9f16224",
   "metadata": {},
   "source": [
    "### 这个 notebook 用来读取文件，并测试一些方法"
   ]
  },
  {
   "cell_type": "code",
   "execution_count": 12,
   "id": "bcb46bb0",
   "metadata": {},
   "outputs": [
    {
     "name": "stdout",
     "output_type": "stream",
     "text": [
      "📄 所有 Python 文件内容已写入 src.txt（共 10 个文件）\n"
     ]
    }
   ],
   "source": [
    "import os\n",
    "import numpy as np\n",
    "\n",
    "def get_all_py_files(root_dir: str) -> list:\n",
    "    \"\"\"\n",
    "    获取指定目录及其子目录下的所有 .py 文件路径。\n",
    "\n",
    "    Args:\n",
    "        root_dir (str): 起始目录路径。\n",
    "\n",
    "    Returns:\n",
    "        list: 包含所有 .py 文件完整路径的列表。\n",
    "    \"\"\"\n",
    "    py_files = []\n",
    "    for dirpath, _, filenames in os.walk(root_dir):\n",
    "        for file in filenames:\n",
    "            if file.endswith(\".py\"):\n",
    "                py_files.append(os.path.join(dirpath, file))\n",
    "    return py_files\n",
    "\n",
    "def write_all_py_contents_to_output(py_files: list, output_path: str = \"src.txt\") -> None:\n",
    "    \"\"\"\n",
    "    将所有 .py 文件的内容写入一个文本文件中，并打印文件名作为分隔。\n",
    "\n",
    "    Args:\n",
    "        py_files (list): .py 文件路径列表。\n",
    "        output_path (str): 输出文件路径。\n",
    "    \"\"\"\n",
    "    with open(output_path, \"w\", encoding=\"utf-8\") as out_file:\n",
    "        for path in py_files:\n",
    "            out_file.write(f\"{'=' * 80}\\n\")\n",
    "            out_file.write(f\"File: {path}\\n\")\n",
    "            out_file.write(f\"{'-' * 80}\\n\")\n",
    "            try:\n",
    "                with open(path, \"r\", encoding=\"utf-8\") as f:\n",
    "                    out_file.write(f.read())\n",
    "            except Exception as e:\n",
    "                out_file.write(f\"⚠️ Error reading {path}: {e}\\n\")\n",
    "            out_file.write(\"\\n\\n\")\n",
    "\n",
    "if True:\n",
    "    root_directory = \".\"  # 当前目录\n",
    "    all_py_files = get_all_py_files(root_directory)\n",
    "    write_all_py_contents_to_output(all_py_files)\n",
    "    print(f\"📄 所有 Python 文件内容已写入 src.txt（共 {len(all_py_files)} 个文件）\")\n",
    "\n"
   ]
  },
  {
   "cell_type": "markdown",
   "id": "b7b3581e",
   "metadata": {},
   "source": [
    "### 检查 tokenizer"
   ]
  },
  {
   "cell_type": "code",
   "execution_count": 13,
   "id": "194f4d2f",
   "metadata": {},
   "outputs": [
    {
     "name": "stdout",
     "output_type": "stream",
     "text": [
      "[1, 3, 10, 28, 2]\n",
      "open 5 ts_std\n"
     ]
    }
   ],
   "source": [
    "from tokenizer import AlphaTokenizer\n",
    "import numpy as np\n",
    "\n",
    "tok = AlphaTokenizer()\n",
    "\n",
    "expr = \"open 5 ts_std\"          # 相当于 ts_mean(close, 5)\n",
    "\n",
    "ids = tok.encode(expr)\n",
    "print(ids)        # ➜ [BOS]  对应 id,  ... , [SEP]\n",
    "\n",
    "print(tok.decode(ids))\n"
   ]
  },
  {
   "cell_type": "markdown",
   "id": "91ddfd39",
   "metadata": {},
   "source": [
    "### 1.测试 AlphaCombinationModel._compute_alpha_from_expr"
   ]
  },
  {
   "cell_type": "code",
   "execution_count": 14,
   "id": "70fb8b94",
   "metadata": {},
   "outputs": [
    {
     "name": "stdout",
     "output_type": "stream",
     "text": [
      "alpha shape: (64861,)\n",
      "alpha sample: [2971.82 2971.85 2971.83 2971.81 2971.81]\n"
     ]
    }
   ],
   "source": [
    "from combination import AlphaCombinationModel\n",
    "from data import load_market_data\n",
    "\n",
    "df = load_market_data()\n",
    "model = AlphaCombinationModel()\n",
    "model.inject_data(df, target_col='target')\n",
    "\n",
    "# 表达式：close 的 100 秒均值\n",
    "expr = \"close 100 ts_mean\"\n",
    "alpha = model._compute_alpha_from_expr(expr)\n",
    "\n",
    "print(\"alpha shape:\", alpha.shape)\n",
    "print(\"alpha sample:\", alpha[~np.isnan(alpha)][:5])\n"
   ]
  },
  {
   "cell_type": "markdown",
   "id": "dc0bc3e9",
   "metadata": {},
   "source": [
    "###  2. 测试 AlphaCombinationModel.add_alpha_expr"
   ]
  },
  {
   "cell_type": "code",
   "execution_count": 15,
   "id": "dc603c3d",
   "metadata": {},
   "outputs": [
    {
     "name": "stdout",
     "output_type": "stream",
     "text": [
      "该因子的 IC 为： 0.028037411051210277\n",
      "当前池中因子数： 1\n"
     ]
    }
   ],
   "source": [
    "ic = model.add_alpha_expr(\"high low - 100 ts_max\")\n",
    "print(\"该因子的 IC 为：\", ic)\n",
    "print(\"当前池中因子数：\", len(model.alphas))\n"
   ]
  },
  {
   "cell_type": "markdown",
   "id": "7aba8fd7",
   "metadata": {},
   "source": [
    "### 3. 测试 AlphaTokenizer.encode / decode"
   ]
  },
  {
   "cell_type": "code",
   "execution_count": 16,
   "id": "dda7d163",
   "metadata": {},
   "outputs": [
    {
     "name": "stdout",
     "output_type": "stream",
     "text": [
      "Token IDs: [1, 6, 10, 23, 2]\n",
      "Decoded expr: close 5 ts_mean\n"
     ]
    }
   ],
   "source": [
    "from tokenizer import AlphaTokenizer\n",
    "\n",
    "tokenizer = AlphaTokenizer()\n",
    "\n",
    "expr = \"close 5 ts_mean\"\n",
    "ids = tokenizer.encode(expr)\n",
    "decoded = tokenizer.decode(ids)\n",
    "\n",
    "print(\"Token IDs:\", ids)\n",
    "print(\"Decoded expr:\", decoded)\n"
   ]
  },
  {
   "cell_type": "markdown",
   "id": "a1899091",
   "metadata": {},
   "source": [
    "### 4. 测试 AlphaGenerationEnv.reset / step"
   ]
  },
  {
   "cell_type": "code",
   "execution_count": 17,
   "id": "5018150f",
   "metadata": {},
   "outputs": [
    {
     "name": "stdout",
     "output_type": "stream",
     "text": [
      "初始状态 token IDs: [1]\n",
      "新状态: [1, 3]\n",
      "Reward: 0.0 Done: False\n"
     ]
    }
   ],
   "source": [
    "from envs import AlphaGenerationEnv\n",
    "from combination import AlphaCombinationModel\n",
    "from tokenizer import AlphaTokenizer\n",
    "from data import load_market_data\n",
    "\n",
    "df = load_market_data()\n",
    "combo = AlphaCombinationModel()\n",
    "combo.inject_data(df, target_col='target')\n",
    "tokenizer = AlphaTokenizer()\n",
    "env = AlphaGenerationEnv(combo, tokenizer)\n",
    "\n",
    "obs = env.reset()\n",
    "print(\"初始状态 token IDs:\", obs)\n",
    "\n",
    "# 尝试一步动作（合法动作中任选一个）\n",
    "valid = env.valid_actions()\n",
    "action = valid[0]\n",
    "obs2, reward, done, info = env.step(action)\n",
    "print(\"新状态:\", obs2)\n",
    "print(\"Reward:\", reward, \"Done:\", done)\n"
   ]
  },
  {
   "cell_type": "markdown",
   "id": "35f1291c",
   "metadata": {},
   "source": [
    "### 5. 测试 PolicyNetwork / ValueNetwork 输出维度"
   ]
  },
  {
   "cell_type": "code",
   "execution_count": 18,
   "id": "d90c5b09",
   "metadata": {},
   "outputs": [
    {
     "name": "stdout",
     "output_type": "stream",
     "text": [
      "Policy logits shape: torch.Size([1, 50])\n",
      "Value estimate shape: torch.Size([1])\n"
     ]
    }
   ],
   "source": [
    "import torch\n",
    "from generator import PolicyNetwork, ValueNetwork\n",
    "\n",
    "vocab_size = 50\n",
    "seq_len = 6\n",
    "hidden_dim = 64\n",
    "device = \"cpu\"\n",
    "\n",
    "x = torch.randint(0, vocab_size, (1, seq_len))  # batch_size=1\n",
    "policy = PolicyNetwork(vocab_size, hidden_dim).to(device)\n",
    "value = ValueNetwork(vocab_size, hidden_dim).to(device)\n",
    "\n",
    "h0_p = policy.init_hidden(1, device)\n",
    "logits, _ = policy(x, h0_p)\n",
    "print(\"Policy logits shape:\", logits.shape)  # 应为 (1, vocab_size)\n",
    "\n",
    "h0_v = value.init_hidden(1, device)\n",
    "v, _ = value(x, h0_v)\n",
    "print(\"Value estimate shape:\", v.shape)      # 应为 (1,)\n"
   ]
  },
  {
   "cell_type": "markdown",
   "id": "de9b7e9d",
   "metadata": {},
   "source": [
    "### 6. 测试 RLAlphaGenerator._collect_trajectories"
   ]
  },
  {
   "cell_type": "code",
   "execution_count": null,
   "id": "f9518107",
   "metadata": {},
   "outputs": [
    {
     "ename": "ValueError",
     "evalue": "RPN 表达式参数不足：ts_var",
     "output_type": "error",
     "traceback": [
      "\u001b[31m---------------------------------------------------------------------------\u001b[39m",
      "\u001b[31mValueError\u001b[39m                                Traceback (most recent call last)",
      "\u001b[36mCell\u001b[39m\u001b[36m \u001b[39m\u001b[32mIn[5]\u001b[39m\u001b[32m, line 23\u001b[39m\n\u001b[32m     20\u001b[39m agent = RLAlphaGenerator(env, cfg)\n\u001b[32m     22\u001b[39m \u001b[38;5;66;03m# 不训练，只采样\u001b[39;00m\n\u001b[32m---> \u001b[39m\u001b[32m23\u001b[39m s, a, logp, ret, adv = \u001b[43magent\u001b[49m\u001b[43m.\u001b[49m\u001b[43m_collect_trajectories\u001b[49m\u001b[43m(\u001b[49m\u001b[43m)\u001b[49m\n\u001b[32m     24\u001b[39m \u001b[38;5;28mprint\u001b[39m(\u001b[33m\"\u001b[39m\u001b[33mSample states shape:\u001b[39m\u001b[33m\"\u001b[39m, s.shape)\n\u001b[32m     25\u001b[39m \u001b[38;5;28mprint\u001b[39m(\u001b[33m\"\u001b[39m\u001b[33mSample actions shape:\u001b[39m\u001b[33m\"\u001b[39m, a.shape)\n",
      "\u001b[36mFile \u001b[39m\u001b[32m~/Documents/workspace/25summer/rl-factor-machine/generator.py:248\u001b[39m, in \u001b[36mRLAlphaGenerator._collect_trajectories\u001b[39m\u001b[34m(self)\u001b[39m\n\u001b[32m    244\u001b[39m logp = dist.log_prob(action)\n\u001b[32m    246\u001b[39m value, h_v = \u001b[38;5;28mself\u001b[39m.value_net(obs, h_v)\n\u001b[32m--> \u001b[39m\u001b[32m248\u001b[39m next_obs, reward, done, _ = \u001b[38;5;28;43mself\u001b[39;49m\u001b[43m.\u001b[49m\u001b[43menv\u001b[49m\u001b[43m.\u001b[49m\u001b[43mstep\u001b[49m\u001b[43m(\u001b[49m\u001b[43maction\u001b[49m\u001b[43m.\u001b[49m\u001b[43mitem\u001b[49m\u001b[43m(\u001b[49m\u001b[43m)\u001b[49m\u001b[43m)\u001b[49m\n\u001b[32m    249\u001b[39m states.append(obs.squeeze(\u001b[32m0\u001b[39m))\n\u001b[32m    250\u001b[39m actions.append(action)\n",
      "\u001b[36mFile \u001b[39m\u001b[32m~/Documents/workspace/25summer/rl-factor-machine/envs.py:75\u001b[39m, in \u001b[36mAlphaGenerationEnv.step\u001b[39m\u001b[34m(self, action)\u001b[39m\n\u001b[32m     73\u001b[39m \u001b[38;5;28;01mif\u001b[39;00m action == \u001b[38;5;28mself\u001b[39m.tokenizer.sep_token_id \u001b[38;5;129;01mor\u001b[39;00m \u001b[38;5;28mlen\u001b[39m(\u001b[38;5;28mself\u001b[39m.sequence) >= \u001b[38;5;28mself\u001b[39m.max_len:\n\u001b[32m     74\u001b[39m     expr = \u001b[38;5;28mself\u001b[39m.tokenizer.decode(\u001b[38;5;28mself\u001b[39m.sequence[\u001b[32m1\u001b[39m:-\u001b[32m1\u001b[39m])\n\u001b[32m---> \u001b[39m\u001b[32m75\u001b[39m     reward = \u001b[38;5;28;43mself\u001b[39;49m\u001b[43m.\u001b[49m\u001b[43mcombo_model\u001b[49m\u001b[43m.\u001b[49m\u001b[43mevaluate_alpha\u001b[49m\u001b[43m(\u001b[49m\u001b[43mexpr\u001b[49m\u001b[43m)\u001b[49m\n\u001b[32m     76\u001b[39m     \u001b[38;5;28mself\u001b[39m.done = \u001b[38;5;28;01mTrue\u001b[39;00m\n\u001b[32m     77\u001b[39m obs = \u001b[38;5;28mself\u001b[39m._get_obs()\n",
      "\u001b[36mFile \u001b[39m\u001b[32m~/Documents/workspace/25summer/rl-factor-machine/combination.py:155\u001b[39m, in \u001b[36mAlphaCombinationModel.evaluate_alpha\u001b[39m\u001b[34m(self, expr)\u001b[39m\n\u001b[32m    142\u001b[39m \u001b[38;5;28;01mdef\u001b[39;00m\u001b[38;5;250m \u001b[39m\u001b[34mevaluate_alpha\u001b[39m(\u001b[38;5;28mself\u001b[39m, expr: \u001b[38;5;28mstr\u001b[39m) -> \u001b[38;5;28mfloat\u001b[39m:\n\u001b[32m    143\u001b[39m \u001b[38;5;250m    \u001b[39m\u001b[33;03m\"\"\"\u001b[39;00m\n\u001b[32m    144\u001b[39m \u001b[33;03m    直接根据 RPN 表达式计算并返回单因子 IC（带缓存）。\u001b[39;00m\n\u001b[32m    145\u001b[39m \n\u001b[32m   (...)\u001b[39m\u001b[32m    153\u001b[39m \u001b[33;03m        ValueError: 当表达式解析或运算失败时。\u001b[39;00m\n\u001b[32m    154\u001b[39m \u001b[33;03m    \"\"\"\u001b[39;00m\n\u001b[32m--> \u001b[39m\u001b[32m155\u001b[39m     new_alpha = \u001b[38;5;28;43mself\u001b[39;49m\u001b[43m.\u001b[49m\u001b[43m_compute_alpha_from_expr\u001b[49m\u001b[43m(\u001b[49m\u001b[43mexpr\u001b[49m\u001b[43m)\u001b[49m\n\u001b[32m    156\u001b[39m     norm = \u001b[38;5;28mself\u001b[39m._maybe_normalize(new_alpha)\n\u001b[32m    157\u001b[39m     key = (\u001b[33m'\u001b[39m\u001b[33mexpr_ic\u001b[39m\u001b[33m'\u001b[39m, expr)\n",
      "\u001b[36mFile \u001b[39m\u001b[32m~/Documents/workspace/25summer/rl-factor-machine/combination.py:232\u001b[39m, in \u001b[36mAlphaCombinationModel._compute_alpha_from_expr\u001b[39m\u001b[34m(self, expr)\u001b[39m\n\u001b[32m    230\u001b[39m fn, arity = func_map[tk]\n\u001b[32m    231\u001b[39m \u001b[38;5;28;01mif\u001b[39;00m \u001b[38;5;28mlen\u001b[39m(stack) < arity:\n\u001b[32m--> \u001b[39m\u001b[32m232\u001b[39m     \u001b[38;5;28;01mraise\u001b[39;00m \u001b[38;5;167;01mValueError\u001b[39;00m(\u001b[33mf\u001b[39m\u001b[33m\"\u001b[39m\u001b[33mRPN 表达式参数不足：\u001b[39m\u001b[38;5;132;01m{\u001b[39;00mtk\u001b[38;5;132;01m}\u001b[39;00m\u001b[33m\"\u001b[39m)\n\u001b[32m    233\u001b[39m \u001b[38;5;66;03m# 注意：弹栈顺序需反转以保持原来顺序\u001b[39;00m\n\u001b[32m    234\u001b[39m args = [stack.pop() \u001b[38;5;28;01mfor\u001b[39;00m _ \u001b[38;5;129;01min\u001b[39;00m \u001b[38;5;28mrange\u001b[39m(arity)][::-\u001b[32m1\u001b[39m]\n",
      "\u001b[31mValueError\u001b[39m: RPN 表达式参数不足：ts_var"
     ]
    }
   ],
   "source": [
    "from generator import RLAlphaGenerator\n",
    "from envs import AlphaGenerationEnv\n",
    "from combination import AlphaCombinationModel\n",
    "from tokenizer import AlphaTokenizer\n",
    "from data import load_market_data\n",
    "\n",
    "df = load_market_data()\n",
    "combo = AlphaCombinationModel()\n",
    "combo.inject_data(df, \"target\")\n",
    "tokenizer = AlphaTokenizer()\n",
    "env = AlphaGenerationEnv(combo, tokenizer, max_len=20)\n",
    "\n",
    "cfg = dict(\n",
    "    vocab_size=tokenizer.vocab_size,\n",
    "    hidden_dim=64,\n",
    "    batch_size=32,\n",
    "    device=\"cpu\",\n",
    ")\n",
    "\n",
    "agent = RLAlphaGenerator(env, cfg)\n",
    "\n",
    "# TODO: 修正 bug\n",
    "# 不训练，只采样\n",
    "s, a, logp, ret, adv = agent._collect_trajectories()\n",
    "print(\"Sample states shape:\", s.shape)\n",
    "print(\"Sample actions shape:\", a.shape)\n",
    "print(\"Sample rewards (returns):\", ret[:5])\n"
   ]
  },
  {
   "cell_type": "code",
   "execution_count": null,
   "id": "386a8f58",
   "metadata": {},
   "outputs": [],
   "source": []
  }
 ],
 "metadata": {
  "kernelspec": {
   "display_name": ".venv",
   "language": "python",
   "name": "python3"
  },
  "language_info": {
   "codemirror_mode": {
    "name": "ipython",
    "version": 3
   },
   "file_extension": ".py",
   "mimetype": "text/x-python",
   "name": "python",
   "nbconvert_exporter": "python",
   "pygments_lexer": "ipython3",
   "version": "3.13.0"
  }
 },
 "nbformat": 4,
 "nbformat_minor": 5
}
