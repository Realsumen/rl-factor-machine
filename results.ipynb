{
 "cells": [
  {
   "cell_type": "code",
   "execution_count": 1,
   "id": "832694b2",
   "metadata": {},
   "outputs": [],
   "source": [
    "import os\n",
    "import yaml\n",
    "import pandas as pd\n",
    "\n",
    "from utility import set_random_seed\n",
    "from data import load_symbol_dfs\n",
    "from combination import AlphaCombinationModel\n",
    "from tokenizer import AlphaTokenizer\n",
    "from alpha_generation_env import AlphaGenerationEnv\n",
    "from generator import RLAlphaGenerator\n",
    "from glob import glob\n",
    "import warnings\n",
    "warnings.filterwarnings(\"ignore\")\n",
    "\n",
    "config_path = \"configs/config.yaml\"\n",
    "config_path = \"configs/trial_config.yaml\"\n",
    "\n",
    "with open(config_path, \"r\", encoding=\"utf-8\") as f:\n",
    "    cfg = yaml.safe_load(f)\n",
    "\n",
    "set_random_seed(cfg.get(\"random_seed\", 42))\n",
    "\n",
    "gen_cfg = cfg[\"generator\"]\n",
    "data_cfg = cfg[\"data\"]\n",
    "envs_cfg = cfg[\"env\"]"
   ]
  },
  {
   "cell_type": "code",
   "execution_count": 2,
   "id": "e9da0654",
   "metadata": {},
   "outputs": [],
   "source": [
    "# 加载数据\n",
    "\n",
    "if True:  # 拆包\n",
    "    n = data_cfg[\"n\"]\n",
    "\n",
    "    symbol_dict = data_cfg[\"symbol\"]\n",
    "    path = data_cfg[\"path\"]\n",
    "\n",
    "    start_date, end_date = data_cfg[\"date_range\"][0], data_cfg[\"date_range\"][1]\n",
    "\n",
    "data_dfs = load_symbol_dfs(\n",
    "    directory=path,\n",
    "    symbols=symbol_dict,\n",
    "    start_date=start_date,\n",
    "    end_date=end_date,\n",
    "    n=n,\n",
    "    base_fields=envs_cfg[\"base_fields\"],\n",
    ")\n",
    "\n",
    "data = pd.concat(data_dfs[\"rb\"])"
   ]
  },
  {
   "cell_type": "code",
   "execution_count": 3,
   "id": "175c902e",
   "metadata": {},
   "outputs": [
    {
     "name": "stdout",
     "output_type": "stream",
     "text": [
      "infix_expr: signed_log((askSize1 / (20 + bidSize1)))                      ic =  0.235\n",
      "infix_expr: (signed_log(neg(bidSize1)) + signed_log(askSize1))            ic =  0.233\n",
      "infix_expr: signed_log((5 * (askSize1 / bidSize1)))                       ic =  0.233\n",
      "infix_expr: signed_log(((3 - bidSize1) / askSize1))                       ic =  0.226\n",
      "infix_expr: signed_sqrt((10 * (askSize1 - bidSize1)))                     ic =  0.221\n",
      "infix_expr: signed_sqrt(((0.5 - bidSize1) + askSize1))                    ic =  0.221\n",
      "infix_expr: signed_sqrt((askSize1 + (3 - bidSize1)))                      ic =  0.221\n",
      "infix_expr: (mid * signed_sqrt((askSize1 - bidSize1)))                    ic =  0.221\n",
      "infix_expr: (abs_(askSize1) + (market_hit_bid - bidSize1))                ic =  0.216\n",
      "infix_expr: (ask1 + (abs_(askSize1) - bidSize1))                          ic =  0.214\n",
      "infix_expr: (askSize1 + (ask1 + neg(bidSize1)))                           ic =  0.214\n",
      "infix_expr: ((askSize1 + abs_(mid)) - bidSize1)                           ic =  0.214\n",
      "infix_expr: ((signed_log(mid) - bidSize1) + askSize1)                     ic =  0.214\n",
      "infix_expr: (3 * (askSize1 - abs_(bidSize1)))                             ic =  0.214\n",
      "infix_expr: ((3 + askSize1) + neg(bidSize1))                              ic =  0.214\n",
      "infix_expr: ((20 + askSize1) - abs_(bidSize1))                            ic =  0.214\n",
      "infix_expr: neg((bidSize1 - (askSize1 + 0.1)))                            ic =  0.214\n",
      "infix_expr: ((20 - bidSize1) + abs_(askSize1))                            ic =  0.214\n",
      "infix_expr: ((5 + askSize1) - bidSize1)                                   ic =  0.214\n",
      "infix_expr: (20 * (askSize1 - abs_(bidSize1)))                            ic =  0.214\n",
      "infix_expr: (0.5 + (askSize1 - abs_(bidSize1)))                           ic =  0.214\n",
      "infix_expr: (10 * (neg(bidSize1) + askSize1))                             ic =  0.214\n",
      "infix_expr: (askSize1 - (1 * abs_(bidSize1)))                             ic =  0.214\n",
      "infix_expr: ((askSize1 - bidSize1) + 5)                                   ic =  0.214\n",
      "infix_expr: (1 + (abs_(askSize1) - bidSize1))                             ic =  0.214\n",
      "infix_expr: (10 * (abs_(askSize1) - bidSize1))                            ic =  0.214\n",
      "infix_expr: (askSize1 - (bidSize1 - sign(bidSize1)))                      ic =  0.214\n",
      "infix_expr: ((0.1 - abs_(bidSize1)) + askSize1)                           ic =  0.214\n",
      "infix_expr: (5 + (abs_(askSize1) - bidSize1))                             ic =  0.214\n",
      "infix_expr: neg((3 - (askSize1 - bidSize1)))                              ic =  0.214\n",
      "infix_expr: (askSize1 - (bidSize1 - 3))                                   ic =  0.214\n",
      "infix_expr: (abs_((askSize1 - 0.1)) - bidSize1)                           ic =  0.214\n",
      "infix_expr: (askSize1 - abs_((5 - bidSize1)))                             ic =  0.214\n",
      "infix_expr: ((bidSize1 - askSize1) * neg(mid))                            ic =  0.214\n",
      "infix_expr: ((d_oi - bidSize1) + abs_(askSize1))                          ic =  0.213\n",
      "infix_expr: (askSize1 - (bid1 - neg(bidSize1)))                           ic =  0.213\n",
      "infix_expr: (askSize1 - (bid1 + bidSize1))                                ic =  0.213\n",
      "infix_expr: abs_((bidSize1 + (bid1 - askSize1)))                          ic = -0.213\n",
      "infix_expr: (mid - (neg(bidSize1) + askSize1))                            ic = -0.213\n",
      "infix_expr: (0.1 * (bidSize1 + neg(askSize1)))                            ic = -0.214\n",
      "infix_expr: (3 + (bidSize1 - abs_(askSize1)))                             ic = -0.214\n",
      "infix_expr: neg(((0.5 + askSize1) - bidSize1))                            ic = -0.214\n",
      "infix_expr: (5 - (askSize1 - abs_(bidSize1)))                             ic = -0.214\n",
      "infix_expr: ((bidSize1 - askSize1) + 1)                                   ic = -0.214\n",
      "infix_expr: (0.5 - (abs_(askSize1) - bidSize1))                           ic = -0.214\n",
      "infix_expr: (20 * neg((askSize1 - bidSize1)))                             ic = -0.214\n",
      "infix_expr: (signed_log(bidSize1) / abs_(signed_log(askSize1)))           ic = -0.219\n",
      "infix_expr: signed_sqrt((5 * (bidSize1 - askSize1)))                      ic = -0.221\n",
      "infix_expr: signed_sqrt((1 - (askSize1 - bidSize1)))                      ic = -0.221\n",
      "infix_expr: (signed_sqrt(bidSize1) + signed_sqrt(neg(askSize1)))          ic = -0.233\n"
     ]
    }
   ],
   "source": [
    "alphatokenizer = AlphaTokenizer(base_fields=envs_cfg[\"base_fields\"])\n",
    "combo = AlphaCombinationModel(max_pool_size=cfg[\"model\"][\"max_pool_size\"])\n",
    "combo.inject_data(data, target_col=data_cfg[\"target_col\"])\n",
    "\n",
    "results = pd.read_csv(\"output/alphas_weights.csv\").sort_values(\"ic\", ascending=False)\n",
    "\n",
    "alphas_list = []\n",
    "\n",
    "for i in range(len(results[\"expr\"])):\n",
    "\n",
    "    expr = results[\"expr\"].iloc[i]\n",
    "\n",
    "    raw, norm, ic = combo._compute_alpha_and_ic(expr, in_pool=False)\n",
    "\n",
    "    alphas_list.append(norm)\n",
    "\n",
    "    infix_expr = alphatokenizer.rpn_to_infix(expr)\n",
    "    print(f\"infix_expr: {infix_expr:<60}  ic = {ic:>6.3f}\")"
   ]
  },
  {
   "cell_type": "code",
   "execution_count": 4,
   "id": "38815275",
   "metadata": {},
   "outputs": [],
   "source": [
    "import pandas as pd\n",
    "\n",
    "# --- Assemble the correlation matrix from your `alphas_list` ------------------\n",
    "# Convert list of Series (assumed aligned on index) to a single DataFrame\n",
    "df_alphas = pd.concat(alphas_list, axis=1)\n",
    "\n",
    "# Give each column a readable name\n",
    "df_alphas.columns = [f\"alpha_{i}\" for i in range(len(alphas_list))]\n",
    "\n",
    "# Compute the Pearson correlation matrix\n",
    "corr_matrix = df_alphas.corr()"
   ]
  },
  {
   "cell_type": "code",
   "execution_count": 5,
   "id": "d4b1e68d",
   "metadata": {},
   "outputs": [
    {
     "name": "stdout",
     "output_type": "stream",
     "text": [
      "最小相关系数的组合：('alpha_13', 'alpha_39')，相关系数 = -1.0000\n",
      "绝对值最小（最不相关）的组合：('alpha_7', 'alpha_46')，相关系数 = -0.7486\n"
     ]
    }
   ],
   "source": [
    "import numpy as np\n",
    "\n",
    "mask = np.triu(np.ones(corr_matrix.shape), k=1).astype(bool)\n",
    "\n",
    "corr_pairs = corr_matrix.where(mask).stack()\n",
    "\n",
    "min_pair = corr_pairs.idxmin()     # 返回 (alpha_i, alpha_j)\n",
    "min_value = corr_pairs.min()\n",
    "\n",
    "print(f\"最小相关系数的组合：{min_pair}，相关系数 = {min_value:.4f}\")\n",
    "\n",
    "abs_corr_pairs = corr_pairs.abs()\n",
    "min_abs_pair = abs_corr_pairs.idxmin()\n",
    "min_abs_value = corr_pairs[min_abs_pair]  # 保留符号\n",
    "\n",
    "print(f\"绝对值最小（最不相关）的组合：{min_abs_pair}，相关系数 = {min_abs_value:.4f}\")\n"
   ]
  },
  {
   "cell_type": "code",
   "execution_count": 11,
   "id": "0508f924",
   "metadata": {},
   "outputs": [
    {
     "data": {
      "text/plain": [
       "np.float64(0.18843607496073192)"
      ]
     },
     "execution_count": 11,
     "metadata": {},
     "output_type": "execute_result"
    }
   ],
   "source": [
    "from operators import signed_log\n",
    "import numpy as np\n",
    "\n",
    "df = data.copy()\n",
    "\n",
    "df[\"factor\"] = (signed_log(df.askSize1 /  (df.bidSize1 + 20)) - signed_log(df.askSize1 /  (df.bidSize1 + 20)).rolling(10).mean()) / signed_log(df.askSize1 /  (df.bidSize1 + 20)).rolling(10).std()\n",
    "\n",
    "df.factor.corr(df.target)"
   ]
  },
  {
   "cell_type": "code",
   "execution_count": 17,
   "id": "679b7183",
   "metadata": {},
   "outputs": [
    {
     "name": "stdout",
     "output_type": "stream",
     "text": [
      "No-intercept R²: 0.04216920835467319\n"
     ]
    }
   ],
   "source": [
    "from sklearn.linear_model import LinearRegression\n",
    "\n",
    "df = df.copy().dropna()\n",
    "X = df[\"factor\"].values.reshape(-1,1)\n",
    "y = (df[\"target\"] * 10000).values\n",
    "\n",
    "model = LinearRegression(fit_intercept=False)\n",
    "model.fit(X, y)\n",
    "\n",
    "r2_no_intercept = model.score(X, y)\n",
    "print(\"No-intercept R²:\", r2_no_intercept)\n"
   ]
  },
  {
   "cell_type": "code",
   "execution_count": 25,
   "id": "cffa453c",
   "metadata": {},
   "outputs": [
    {
     "data": {
      "application/vnd.microsoft.datawrangler.viewer.v0+json": {
       "columns": [
        {
         "name": "index",
         "rawType": "int64",
         "type": "integer"
        },
        {
         "name": "0",
         "rawType": "float64",
         "type": "float"
        }
       ],
       "ref": "d4431db6-6806-4ad9-b2c6-f9e8f232033e",
       "rows": [
        [
         "0",
         "0.2783834379772369"
        ],
        [
         "1",
         "-0.9673535845531686"
        ],
        [
         "2",
         "-1.7448388820796992"
        ],
        [
         "3",
         "1.6535003940419346"
        ],
        [
         "4",
         "-1.3456875841342113"
        ],
        [
         "5",
         "0.838861451372343"
        ],
        [
         "6",
         "-1.7448388820796992"
        ],
        [
         "7",
         "1.5386752929197578"
        ],
        [
         "8",
         "-1.1237843492810768"
        ],
        [
         "9",
         "-0.9408625982230422"
        ],
        [
         "10",
         "1.1329494265571702"
        ],
        [
         "11",
         "-1.3189216525618903"
        ],
        [
         "12",
         "-0.8493331905316348"
        ],
        [
         "13",
         "-0.2996800820389656"
        ],
        [
         "14",
         "-1.5642571839267752"
        ],
        [
         "15",
         "1.7373498013029114"
        ],
        [
         "16",
         "-0.9044182725210733"
        ],
        [
         "17",
         "1.976619723922702"
        ],
        [
         "18",
         "-1.1255075996969965"
        ],
        [
         "19",
         "-0.5976975253592621"
        ],
        [
         "20",
         "-1.1522507843830028"
        ],
        [
         "21",
         "-0.9819715372853517"
        ],
        [
         "22",
         "0.6701787555395443"
        ],
        [
         "23",
         "1.6759870241788446"
        ],
        [
         "24",
         "-0.6329621175531561"
        ],
        [
         "25",
         "-0.11588379885500845"
        ],
        [
         "26",
         "1.8373809380870312"
        ],
        [
         "27",
         "2.207450229878285"
        ],
        [
         "28",
         "-0.7332277220512312"
        ],
        [
         "29",
         "-0.8297810655662194"
        ],
        [
         "30",
         "1.2503080025207556"
        ],
        [
         "31",
         "1.7090176603374767"
        ],
        [
         "32",
         "-0.12149098353964434"
        ],
        [
         "33",
         "2.207450229878285"
        ],
        [
         "34",
         "-1.0098316307888275"
        ],
        [
         "35",
         "-0.5151896458926061"
        ],
        [
         "36",
         "-1.25836423093549"
        ],
        [
         "37",
         "1.4664604928882536"
        ],
        [
         "38",
         "2.1361568676939022"
        ],
        [
         "39",
         "-1.7448388820796992"
        ],
        [
         "40",
         "0.37854786843915683"
        ],
        [
         "41",
         "-1.5312416185198277"
        ],
        [
         "42",
         "0.9643200454485826"
        ],
        [
         "43",
         "1.5173490180645997"
        ],
        [
         "44",
         "0.05218030591677458"
        ],
        [
         "45",
         "-1.7074838725563395"
        ],
        [
         "46",
         "-1.5369233438234204"
        ],
        [
         "47",
         "0.8851716930980958"
        ],
        [
         "48",
         "-0.8897245131375633"
        ],
        [
         "49",
         "-0.26234547194562474"
        ]
       ],
       "shape": {
        "columns": 1,
        "rows": 1217886
       }
      },
      "text/plain": [
       "0          0.278383\n",
       "1         -0.967354\n",
       "2         -1.744839\n",
       "3          1.653500\n",
       "4         -1.345688\n",
       "             ...   \n",
       "1217881   -1.744839\n",
       "1217882   -1.744839\n",
       "1217883    1.766496\n",
       "1217884    0.602358\n",
       "1217885    2.062698\n",
       "Length: 1217886, dtype: float64"
      ]
     },
     "execution_count": 25,
     "metadata": {},
     "output_type": "execute_result"
    }
   ],
   "source": [
    "norm"
   ]
  },
  {
   "cell_type": "code",
   "execution_count": 18,
   "id": "e65c320b",
   "metadata": {},
   "outputs": [
    {
     "data": {
      "text/plain": [
       "array([ 0.17185026, -1.25276297, -1.84305276, ..., -5.86220971,\n",
       "        0.73122569,  0.77175104], shape=(2424053,))"
      ]
     },
     "execution_count": 18,
     "metadata": {},
     "output_type": "execute_result"
    }
   ],
   "source": [
    "raw"
   ]
  },
  {
   "cell_type": "code",
   "execution_count": null,
   "id": "fe36868b",
   "metadata": {},
   "outputs": [],
   "source": []
  }
 ],
 "metadata": {
  "kernelspec": {
   "display_name": "workspace",
   "language": "python",
   "name": "python3"
  },
  "language_info": {
   "codemirror_mode": {
    "name": "ipython",
    "version": 3
   },
   "file_extension": ".py",
   "mimetype": "text/x-python",
   "name": "python",
   "nbconvert_exporter": "python",
   "pygments_lexer": "ipython3",
   "version": "3.11.7"
  }
 },
 "nbformat": 4,
 "nbformat_minor": 5
}
