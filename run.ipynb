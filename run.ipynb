{
 "cells": [
  {
   "cell_type": "code",
   "execution_count": 1,
   "id": "1aab970f",
   "metadata": {},
   "outputs": [],
   "source": [
    "from operators import FUNC_MAP"
   ]
  },
  {
   "cell_type": "code",
   "execution_count": 2,
   "id": "05738775",
   "metadata": {},
   "outputs": [
    {
     "data": {
      "text/plain": [
       "[(<function operators.abs_(x: pandas.core.series.Series) -> pandas.core.series.Series>,\n",
       "  1,\n",
       "  ['Series']),\n",
       " (<function operators.add(x: pandas.core.series.Series, y: pandas.core.series.Series)>,\n",
       "  2,\n",
       "  ['Series', 'Any']),\n",
       " (<function operators.decay_linear(series: pandas.core.series.Series, window: int) -> pandas.core.series.Series>,\n",
       "  2,\n",
       "  ['Series', 'Scalar']),\n",
       " (<function operators.div(x: pandas.core.series.Series, y: pandas.core.series.Series)>,\n",
       "  2,\n",
       "  ['Series', 'Any']),\n",
       " (<function operators.log(x: pandas.core.series.Series) -> pandas.core.series.Series>,\n",
       "  1,\n",
       "  ['Series']),\n",
       " (<function operators.mul(x: pandas.core.series.Series, y: pandas.core.series.Series)>,\n",
       "  2,\n",
       "  ['Series', 'Any']),\n",
       " (<function operators.neg(x: pandas.core.series.Series) -> pandas.core.series.Series>,\n",
       "  1,\n",
       "  ['Series']),\n",
       " (<function operators.ref(series: pandas.core.series.Series, window: int) -> pandas.core.series.Series>,\n",
       "  2,\n",
       "  ['Series', 'Scalar']),\n",
       " (<function operators.sign(x: pandas.core.series.Series) -> pandas.core.series.Series>,\n",
       "  1,\n",
       "  ['Series']),\n",
       " (<function operators.sqrt(x: pandas.core.series.Series) -> pandas.core.series.Series>,\n",
       "  1,\n",
       "  ['Series']),\n",
       " (<function operators.sub(x: pandas.core.series.Series, y: pandas.core.series.Series)>,\n",
       "  2,\n",
       "  ['Series', 'Any']),\n",
       " (<function operators.ts_corr(x: pandas.core.series.Series, y: pandas.core.series.Series, window: int) -> pandas.core.series.Series>,\n",
       "  3,\n",
       "  ['Series', 'Series', 'Scalar']),\n",
       " (<function operators.ts_cov(x: pandas.core.series.Series, y: pandas.core.series.Series, window: int) -> pandas.core.series.Series>,\n",
       "  3,\n",
       "  ['Series', 'Series', 'Scalar']),\n",
       " (<function operators.ts_delta(series: pandas.core.series.Series, window: int = 1) -> pandas.core.series.Series>,\n",
       "  2,\n",
       "  ['Series', 'Scalar']),\n",
       " (<function operators.ts_ema(series: pandas.core.series.Series, window: int) -> pandas.core.series.Series>,\n",
       "  2,\n",
       "  ['Series', 'Scalar']),\n",
       " (<function operators.ts_kurt(series: pandas.core.series.Series, window: int) -> pandas.core.series.Series>,\n",
       "  2,\n",
       "  ['Series', 'Scalar']),\n",
       " (<function operators.ts_mad(series: pandas.core.series.Series, window: int) -> pandas.core.series.Series>,\n",
       "  2,\n",
       "  ['Series', 'Scalar']),\n",
       " (<function operators.ts_max(series: pandas.core.series.Series, window: int) -> pandas.core.series.Series>,\n",
       "  2,\n",
       "  ['Series', 'Scalar']),\n",
       " (<function operators.ts_mean(series: pandas.core.series.Series, window: int) -> pandas.core.series.Series>,\n",
       "  2,\n",
       "  ['Series', 'Scalar']),\n",
       " (<function operators.ts_med(series: pandas.core.series.Series, window: int) -> pandas.core.series.Series>,\n",
       "  2,\n",
       "  ['Series', 'Scalar']),\n",
       " (<function operators.ts_min(series: pandas.core.series.Series, window: int) -> pandas.core.series.Series>,\n",
       "  2,\n",
       "  ['Series', 'Scalar']),\n",
       " (<function operators.ts_rank(series: pandas.core.series.Series, window: int) -> pandas.core.series.Series>,\n",
       "  2,\n",
       "  ['Series', 'Scalar']),\n",
       " (<function operators.ts_return(series: pandas.core.series.Series, window: int = 1) -> pandas.core.series.Series>,\n",
       "  2,\n",
       "  ['Series', 'Scalar']),\n",
       " (<function operators.ts_skew(series: pandas.core.series.Series, window: int) -> pandas.core.series.Series>,\n",
       "  2,\n",
       "  ['Series', 'Scalar']),\n",
       " (<function operators.ts_std(series: pandas.core.series.Series, window: int) -> pandas.core.series.Series>,\n",
       "  2,\n",
       "  ['Series', 'Scalar']),\n",
       " (<function operators.ts_sum(series: pandas.core.series.Series, window: int) -> pandas.core.series.Series>,\n",
       "  2,\n",
       "  ['Series', 'Scalar']),\n",
       " (<function operators.ts_var(series: pandas.core.series.Series, window: int) -> pandas.core.series.Series>,\n",
       "  2,\n",
       "  ['Series', 'Scalar']),\n",
       " (<function operators.ts_wma(series: pandas.core.series.Series, window: int) -> pandas.core.series.Series>,\n",
       "  2,\n",
       "  ['Series', 'Scalar']),\n",
       " (<function operators.ts_zscore(series: pandas.core.series.Series, window: int) -> pandas.core.series.Series>,\n",
       "  2,\n",
       "  ['Series', 'Scalar'])]"
      ]
     },
     "execution_count": 2,
     "metadata": {},
     "output_type": "execute_result"
    }
   ],
   "source": [
    "list(FUNC_MAP.values())"
   ]
  },
  {
   "cell_type": "code",
   "execution_count": null,
   "id": "be69fe71",
   "metadata": {},
   "outputs": [],
   "source": []
  }
 ],
 "metadata": {
  "kernelspec": {
   "display_name": ".venv",
   "language": "python",
   "name": "python3"
  },
  "language_info": {
   "codemirror_mode": {
    "name": "ipython",
    "version": 3
   },
   "file_extension": ".py",
   "mimetype": "text/x-python",
   "name": "python",
   "nbconvert_exporter": "python",
   "pygments_lexer": "ipython3",
   "version": "3.13.0"
  }
 },
 "nbformat": 4,
 "nbformat_minor": 5
}
