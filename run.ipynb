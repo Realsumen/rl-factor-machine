{
 "cells": [
  {
   "cell_type": "code",
   "execution_count": null,
   "id": "1aab970f",
   "metadata": {},
   "outputs": [],
   "source": [
    "# run_training.py\n",
    "import torch\n",
    "from data import load_market_data\n",
    "from combination import AlphaCombinationModel\n",
    "from tokenizer import AlphaTokenizer\n",
    "from envs import AlphaGenerationEnv\n",
    "from generator import RLAlphaGenerator\n",
    "\n",
    "# 1. 读取并注入行情\n",
    "df = load_market_data(\"data/rb_20250606_primary.csv\")\n",
    "combo = AlphaCombinationModel(max_pool_size=50)\n",
    "combo.inject_data(df, target_col=\"target\")          # target 列是未来 10 s 的收益率\n",
    "\n",
    "# 2. 初始化分词器 & 环境\n",
    "tokenizer = AlphaTokenizer()\n",
    "env = AlphaGenerationEnv(combo, tokenizer, max_len=20)\n",
    "\n",
    "# 3. 配置 PPO\n",
    "cfg = dict(\n",
    "    vocab_size=tokenizer.vocab_size,\n",
    "    hidden_dim=128,\n",
    "    batch_size=256,          # 每轮收集多少 step\n",
    "    update_epochs=4,\n",
    "    gamma=0.99,\n",
    "    clip_eps=0.2,\n",
    "    entropy_coef=0.01,\n",
    "    value_coef=0.5,\n",
    "    device=\"cuda\" if torch.cuda.is_available() else \"cpu\",\n",
    ")\n",
    "\n",
    "# 4. 训练\n",
    "agent = RLAlphaGenerator(env, cfg)\n",
    "agent.train(num_iterations=500)\n",
    "\n",
    "# 5. 查看结果\n",
    "print(\"已发现 alpha 数量:\", len(combo.expr_list))\n",
    "print(\"最新组合 IC:\", combo.score())\n",
    "for expr, w in zip(combo.expr_list, combo.weights):\n",
    "    print(f\"{w:+.3f} × {expr}\")\n"
   ]
  }
 ],
 "metadata": {
  "language_info": {
   "name": "python"
  }
 },
 "nbformat": 4,
 "nbformat_minor": 5
}
