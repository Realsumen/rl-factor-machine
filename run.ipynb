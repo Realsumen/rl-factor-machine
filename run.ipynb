{
 "cells": [
  {
   "cell_type": "code",
   "execution_count": 1,
   "id": "a44ac11d",
   "metadata": {},
   "outputs": [],
   "source": [
    "import os\n",
    "import yaml\n",
    "import pandas as pd\n",
    "\n",
    "from utility import set_random_seed\n",
    "from data import load_symbol_dfs\n",
    "from combination import AlphaCombinationModel\n",
    "from tokenizer import AlphaTokenizer\n",
    "from alpha_generation_env import AlphaGenerationEnv\n",
    "from generator import RLAlphaGenerator\n",
    "import pathlib\n",
    "from glob import glob\n",
    "\n",
    "config_path = \"configs/trial_config.yaml\"\n",
    "\n",
    "with open(config_path, \"r\") as f:\n",
    "    cfg = yaml.safe_load(f)\n",
    "\n",
    "set_random_seed(cfg.get(\"random_seed\", 42))\n",
    "\n",
    "gen_cfg = cfg[\"generator\"]\n",
    "data_cfg = cfg[\"data\"]\n"
   ]
  },
  {
   "cell_type": "code",
   "execution_count": 2,
   "id": "42a2279f",
   "metadata": {},
   "outputs": [],
   "source": [
    "# 加载数据\n",
    "\n",
    "if True:  # 拆包\n",
    "    n = data_cfg[\"n\"]\n",
    "\n",
    "    symbol_dict = data_cfg[\"symbol\"]\n",
    "    path = data_cfg[\"path\"]\n",
    "\n",
    "    start_date, end_date = data_cfg[\"date_range\"][0], data_cfg[\"date_range\"][1]\n",
    "\n",
    "data_dfs = load_symbol_dfs(\n",
    "    directory=path, symbols=symbol_dict, start_date=start_date, end_date=end_date, n=n\n",
    ")\n",
    "\n",
    "data = pd.concat(data_dfs[\"rb\"])"
   ]
  },
  {
   "cell_type": "code",
   "execution_count": 3,
   "id": "a14156bb",
   "metadata": {},
   "outputs": [
    {
     "name": "stdout",
     "output_type": "stream",
     "text": [
      "Starting training for 300 iterations...\n",
      "[Iter 0010]  AvgReturn=+0.0007   ComboIC=-0.0758\n",
      "[Iter 0020]  AvgReturn=+0.0320   ComboIC=-0.0172\n",
      "[Iter 0030]  AvgReturn=+0.0102   ComboIC=-0.1649\n"
     ]
    },
    {
     "name": "stderr",
     "output_type": "stream",
     "text": [
      "/Users/sumen/Documents/workspace/25summer/.venv/lib/python3.13/site-packages/numpy/_core/fromnumeric.py:86: RuntimeWarning: overflow encountered in reduce\n",
      "  return ufunc.reduce(obj, axis, dtype, out, **passkwargs)\n",
      "/Users/sumen/Documents/workspace/25summer/.venv/lib/python3.13/site-packages/numpy/_core/fromnumeric.py:86: RuntimeWarning: invalid value encountered in reduce\n",
      "  return ufunc.reduce(obj, axis, dtype, out, **passkwargs)\n"
     ]
    },
    {
     "name": "stdout",
     "output_type": "stream",
     "text": [
      "[Iter 0040]  AvgReturn=+0.0112   ComboIC=-0.0094\n",
      "[Iter 0050]  AvgReturn=-0.0033   ComboIC=-0.0741\n",
      "[Iter 0060]  AvgReturn=-0.0408   ComboIC=-0.0488\n",
      "[Iter 0070]  AvgReturn=-0.0013   ComboIC=-0.2521\n",
      "[Iter 0080]  AvgReturn=+0.0018   ComboIC=-0.2521\n",
      "[Iter 0090]  AvgReturn=+0.0467   ComboIC=+0.0289\n",
      "[Iter 0100]  AvgReturn=+0.0457   ComboIC=+0.0157\n",
      "[Iter 0110]  AvgReturn=+0.0101   ComboIC=+0.0001\n",
      "[Iter 0120]  AvgReturn=+0.0029   ComboIC=+0.0029\n",
      "[Iter 0130]  AvgReturn=-0.0037   ComboIC=-0.0027\n",
      "[Iter 0140]  AvgReturn=-0.0308   ComboIC=+0.3454\n",
      "[Iter 0150]  AvgReturn=+0.0018   ComboIC=+0.3454\n",
      "[Iter 0160]  AvgReturn=+0.0023   ComboIC=+0.3454\n",
      "[Iter 0170]  AvgReturn=+0.0002   ComboIC=+0.3454\n",
      "[Iter 0180]  AvgReturn=+0.0014   ComboIC=+0.3454\n",
      "[Iter 0190]  AvgReturn=-0.0470   ComboIC=+0.2779\n",
      "[Iter 0200]  AvgReturn=+0.0005   ComboIC=-0.0029\n",
      "[Iter 0210]  AvgReturn=-0.0033   ComboIC=-0.0029\n",
      "[Iter 0220]  AvgReturn=-0.0321   ComboIC=-0.0073\n",
      "[Iter 0230]  AvgReturn=+0.0009   ComboIC=-0.0073\n",
      "[Iter 0240]  AvgReturn=+0.0064   ComboIC=-0.0073\n",
      "[Iter 0250]  AvgReturn=-0.0021   ComboIC=-0.0073\n",
      "[Iter 0260]  AvgReturn=+0.0062   ComboIC=-0.0073\n",
      "[Iter 0270]  AvgReturn=+0.0044   ComboIC=-0.0073\n",
      "[Iter 0280]  AvgReturn=+0.0027   ComboIC=-0.0081\n",
      "[Iter 0290]  AvgReturn=+0.0083   ComboIC=-0.0081\n",
      "[Iter 0300]  AvgReturn=-0.0005   ComboIC=-0.0081\n",
      "Saved discovered alphas and weights to output/alphas_weights.csv\n"
     ]
    }
   ],
   "source": [
    "# 模块初始化\n",
    "combo = AlphaCombinationModel(max_pool_size=cfg[\"model\"][\"max_pool_size\"])\n",
    "combo.inject_data(data, target_col=data_cfg[\"target_col\"])\n",
    "\n",
    "tokenizer = AlphaTokenizer()\n",
    "env = AlphaGenerationEnv(\n",
    "    combo_model=combo, tokenizer=tokenizer, max_len=cfg[\"env\"][\"max_len\"]\n",
    ")\n",
    "\n",
    "gen_cfg[\"vocab_size\"] = tokenizer.vocab_size\n",
    "gen_cfg[\"max_seq_len\"] = cfg[\"env\"][\"max_len\"]\n",
    "agent = RLAlphaGenerator(env=env, config=gen_cfg)\n",
    "\n",
    "print(f\"Starting training for {gen_cfg['num_iterations']} iterations...\")\n",
    "agent.train(num_iterations=gen_cfg[\"num_iterations\"])\n",
    "\n",
    "out_cfg = cfg[\"output\"]\n",
    "os.makedirs(os.path.dirname(out_cfg[\"alphas_weights_path\"]), exist_ok=True)\n",
    "results = pd.DataFrame(\n",
    "    {\"expr\": combo.expr_list, \"ic\": combo.ic_list, \"weight\": combo.weights}\n",
    ")\n",
    "results.to_csv(out_cfg[\"alphas_weights_path\"], index=False)\n",
    "print(f\"Saved discovered alphas and weights to {out_cfg['alphas_weights_path']}\")"
   ]
  }
 ],
 "metadata": {
  "kernelspec": {
   "display_name": ".venv",
   "language": "python",
   "name": "python3"
  },
  "language_info": {
   "codemirror_mode": {
    "name": "ipython",
    "version": 3
   },
   "file_extension": ".py",
   "mimetype": "text/x-python",
   "name": "python",
   "nbconvert_exporter": "python",
   "pygments_lexer": "ipython3",
   "version": "3.13.0"
  }
 },
 "nbformat": 4,
 "nbformat_minor": 5
}
