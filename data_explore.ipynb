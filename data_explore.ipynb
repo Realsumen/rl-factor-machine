{
 "cells": [
  {
   "cell_type": "code",
   "execution_count": 1,
   "id": "2d0ab7db",
   "metadata": {},
   "outputs": [],
   "source": [
    "import pandas as pd\n",
    "from data import load_market_data"
   ]
  },
  {
   "cell_type": "code",
   "execution_count": 2,
   "id": "4d609040",
   "metadata": {},
   "outputs": [],
   "source": [
    "df = load_market_data()\n",
    "\n",
    "df['timestamp'] = pd.to_datetime(df['timestamp'])\n",
    "df = df.set_index('timestamp')\n",
    "\n",
    "bars = df['last'].resample('1s').ohlc()\n",
    "\n",
    "vol = df['volume'].resample('1s').sum().rename('volume')\n",
    "\n",
    "vwap = (df['last'] * df['volume']).resample('1s').sum() / vol\n",
    "vwap = vwap.rename('vwap')\n",
    "\n",
    "bars = bars.join([vol, vwap])\n"
   ]
  },
  {
   "cell_type": "code",
   "execution_count": 3,
   "id": "29df5a7f",
   "metadata": {},
   "outputs": [],
   "source": [
    "# volume_skewness, market_temperatur, ask_dominance, bid_dominance"
   ]
  },
  {
   "cell_type": "code",
   "execution_count": 4,
   "id": "e3ebca9b",
   "metadata": {},
   "outputs": [
    {
     "data": {
      "application/vnd.microsoft.datawrangler.viewer.v0+json": {
       "columns": [
        {
         "name": "timestamp",
         "rawType": "datetime64[ns]",
         "type": "datetime"
        },
        {
         "name": "open",
         "rawType": "float64",
         "type": "float"
        },
        {
         "name": "high",
         "rawType": "float64",
         "type": "float"
        },
        {
         "name": "low",
         "rawType": "float64",
         "type": "float"
        },
        {
         "name": "close",
         "rawType": "float64",
         "type": "float"
        },
        {
         "name": "volume",
         "rawType": "float64",
         "type": "float"
        },
        {
         "name": "vwap",
         "rawType": "float64",
         "type": "float"
        }
       ],
       "ref": "feb2f643-85e8-490d-a8d7-35711a8222ac",
       "rows": [
        [
         "2025-06-05 20:59:00",
         "2969.0",
         "2969.0",
         "2969.0",
         "2969.0",
         "4205.0",
         "2969.0"
        ],
        [
         "2025-06-05 20:59:01",
         null,
         null,
         null,
         null,
         "0.0",
         null
        ],
        [
         "2025-06-05 20:59:02",
         null,
         null,
         null,
         null,
         "0.0",
         null
        ],
        [
         "2025-06-05 20:59:03",
         null,
         null,
         null,
         null,
         "0.0",
         null
        ],
        [
         "2025-06-05 20:59:04",
         null,
         null,
         null,
         null,
         "0.0",
         null
        ],
        [
         "2025-06-05 20:59:05",
         null,
         null,
         null,
         null,
         "0.0",
         null
        ],
        [
         "2025-06-05 20:59:06",
         null,
         null,
         null,
         null,
         "0.0",
         null
        ],
        [
         "2025-06-05 20:59:07",
         null,
         null,
         null,
         null,
         "0.0",
         null
        ],
        [
         "2025-06-05 20:59:08",
         null,
         null,
         null,
         null,
         "0.0",
         null
        ],
        [
         "2025-06-05 20:59:09",
         null,
         null,
         null,
         null,
         "0.0",
         null
        ],
        [
         "2025-06-05 20:59:10",
         null,
         null,
         null,
         null,
         "0.0",
         null
        ],
        [
         "2025-06-05 20:59:11",
         null,
         null,
         null,
         null,
         "0.0",
         null
        ],
        [
         "2025-06-05 20:59:12",
         null,
         null,
         null,
         null,
         "0.0",
         null
        ],
        [
         "2025-06-05 20:59:13",
         null,
         null,
         null,
         null,
         "0.0",
         null
        ],
        [
         "2025-06-05 20:59:14",
         null,
         null,
         null,
         null,
         "0.0",
         null
        ],
        [
         "2025-06-05 20:59:15",
         null,
         null,
         null,
         null,
         "0.0",
         null
        ],
        [
         "2025-06-05 20:59:16",
         null,
         null,
         null,
         null,
         "0.0",
         null
        ],
        [
         "2025-06-05 20:59:17",
         null,
         null,
         null,
         null,
         "0.0",
         null
        ],
        [
         "2025-06-05 20:59:18",
         null,
         null,
         null,
         null,
         "0.0",
         null
        ],
        [
         "2025-06-05 20:59:19",
         null,
         null,
         null,
         null,
         "0.0",
         null
        ],
        [
         "2025-06-05 20:59:20",
         null,
         null,
         null,
         null,
         "0.0",
         null
        ],
        [
         "2025-06-05 20:59:21",
         null,
         null,
         null,
         null,
         "0.0",
         null
        ],
        [
         "2025-06-05 20:59:22",
         null,
         null,
         null,
         null,
         "0.0",
         null
        ],
        [
         "2025-06-05 20:59:23",
         null,
         null,
         null,
         null,
         "0.0",
         null
        ],
        [
         "2025-06-05 20:59:24",
         null,
         null,
         null,
         null,
         "0.0",
         null
        ],
        [
         "2025-06-05 20:59:25",
         null,
         null,
         null,
         null,
         "0.0",
         null
        ],
        [
         "2025-06-05 20:59:26",
         null,
         null,
         null,
         null,
         "0.0",
         null
        ],
        [
         "2025-06-05 20:59:27",
         null,
         null,
         null,
         null,
         "0.0",
         null
        ],
        [
         "2025-06-05 20:59:28",
         null,
         null,
         null,
         null,
         "0.0",
         null
        ],
        [
         "2025-06-05 20:59:29",
         null,
         null,
         null,
         null,
         "0.0",
         null
        ],
        [
         "2025-06-05 20:59:30",
         null,
         null,
         null,
         null,
         "0.0",
         null
        ],
        [
         "2025-06-05 20:59:31",
         null,
         null,
         null,
         null,
         "0.0",
         null
        ],
        [
         "2025-06-05 20:59:32",
         null,
         null,
         null,
         null,
         "0.0",
         null
        ],
        [
         "2025-06-05 20:59:33",
         null,
         null,
         null,
         null,
         "0.0",
         null
        ],
        [
         "2025-06-05 20:59:34",
         null,
         null,
         null,
         null,
         "0.0",
         null
        ],
        [
         "2025-06-05 20:59:35",
         null,
         null,
         null,
         null,
         "0.0",
         null
        ],
        [
         "2025-06-05 20:59:36",
         null,
         null,
         null,
         null,
         "0.0",
         null
        ],
        [
         "2025-06-05 20:59:37",
         null,
         null,
         null,
         null,
         "0.0",
         null
        ],
        [
         "2025-06-05 20:59:38",
         null,
         null,
         null,
         null,
         "0.0",
         null
        ],
        [
         "2025-06-05 20:59:39",
         null,
         null,
         null,
         null,
         "0.0",
         null
        ],
        [
         "2025-06-05 20:59:40",
         null,
         null,
         null,
         null,
         "0.0",
         null
        ],
        [
         "2025-06-05 20:59:41",
         null,
         null,
         null,
         null,
         "0.0",
         null
        ],
        [
         "2025-06-05 20:59:42",
         null,
         null,
         null,
         null,
         "0.0",
         null
        ],
        [
         "2025-06-05 20:59:43",
         null,
         null,
         null,
         null,
         "0.0",
         null
        ],
        [
         "2025-06-05 20:59:44",
         null,
         null,
         null,
         null,
         "0.0",
         null
        ],
        [
         "2025-06-05 20:59:45",
         null,
         null,
         null,
         null,
         "0.0",
         null
        ],
        [
         "2025-06-05 20:59:46",
         null,
         null,
         null,
         null,
         "0.0",
         null
        ],
        [
         "2025-06-05 20:59:47",
         null,
         null,
         null,
         null,
         "0.0",
         null
        ],
        [
         "2025-06-05 20:59:48",
         null,
         null,
         null,
         null,
         "0.0",
         null
        ],
        [
         "2025-06-05 20:59:49",
         null,
         null,
         null,
         null,
         "0.0",
         null
        ]
       ],
       "shape": {
        "columns": 6,
        "rows": 64861
       }
      },
      "text/html": [
       "<div>\n",
       "<style scoped>\n",
       "    .dataframe tbody tr th:only-of-type {\n",
       "        vertical-align: middle;\n",
       "    }\n",
       "\n",
       "    .dataframe tbody tr th {\n",
       "        vertical-align: top;\n",
       "    }\n",
       "\n",
       "    .dataframe thead th {\n",
       "        text-align: right;\n",
       "    }\n",
       "</style>\n",
       "<table border=\"1\" class=\"dataframe\">\n",
       "  <thead>\n",
       "    <tr style=\"text-align: right;\">\n",
       "      <th></th>\n",
       "      <th>open</th>\n",
       "      <th>high</th>\n",
       "      <th>low</th>\n",
       "      <th>close</th>\n",
       "      <th>volume</th>\n",
       "      <th>vwap</th>\n",
       "    </tr>\n",
       "    <tr>\n",
       "      <th>timestamp</th>\n",
       "      <th></th>\n",
       "      <th></th>\n",
       "      <th></th>\n",
       "      <th></th>\n",
       "      <th></th>\n",
       "      <th></th>\n",
       "    </tr>\n",
       "  </thead>\n",
       "  <tbody>\n",
       "    <tr>\n",
       "      <th>2025-06-05 20:59:00</th>\n",
       "      <td>2969.0</td>\n",
       "      <td>2969.0</td>\n",
       "      <td>2969.0</td>\n",
       "      <td>2969.0</td>\n",
       "      <td>4205.0</td>\n",
       "      <td>2969.000000</td>\n",
       "    </tr>\n",
       "    <tr>\n",
       "      <th>2025-06-05 20:59:01</th>\n",
       "      <td>NaN</td>\n",
       "      <td>NaN</td>\n",
       "      <td>NaN</td>\n",
       "      <td>NaN</td>\n",
       "      <td>0.0</td>\n",
       "      <td>NaN</td>\n",
       "    </tr>\n",
       "    <tr>\n",
       "      <th>2025-06-05 20:59:02</th>\n",
       "      <td>NaN</td>\n",
       "      <td>NaN</td>\n",
       "      <td>NaN</td>\n",
       "      <td>NaN</td>\n",
       "      <td>0.0</td>\n",
       "      <td>NaN</td>\n",
       "    </tr>\n",
       "    <tr>\n",
       "      <th>2025-06-05 20:59:03</th>\n",
       "      <td>NaN</td>\n",
       "      <td>NaN</td>\n",
       "      <td>NaN</td>\n",
       "      <td>NaN</td>\n",
       "      <td>0.0</td>\n",
       "      <td>NaN</td>\n",
       "    </tr>\n",
       "    <tr>\n",
       "      <th>2025-06-05 20:59:04</th>\n",
       "      <td>NaN</td>\n",
       "      <td>NaN</td>\n",
       "      <td>NaN</td>\n",
       "      <td>NaN</td>\n",
       "      <td>0.0</td>\n",
       "      <td>NaN</td>\n",
       "    </tr>\n",
       "    <tr>\n",
       "      <th>...</th>\n",
       "      <td>...</td>\n",
       "      <td>...</td>\n",
       "      <td>...</td>\n",
       "      <td>...</td>\n",
       "      <td>...</td>\n",
       "      <td>...</td>\n",
       "    </tr>\n",
       "    <tr>\n",
       "      <th>2025-06-06 14:59:56</th>\n",
       "      <td>2976.0</td>\n",
       "      <td>2977.0</td>\n",
       "      <td>2976.0</td>\n",
       "      <td>2977.0</td>\n",
       "      <td>3689644.0</td>\n",
       "      <td>2976.500003</td>\n",
       "    </tr>\n",
       "    <tr>\n",
       "      <th>2025-06-06 14:59:57</th>\n",
       "      <td>2977.0</td>\n",
       "      <td>2977.0</td>\n",
       "      <td>2976.0</td>\n",
       "      <td>2976.0</td>\n",
       "      <td>3689941.0</td>\n",
       "      <td>2976.499993</td>\n",
       "    </tr>\n",
       "    <tr>\n",
       "      <th>2025-06-06 14:59:58</th>\n",
       "      <td>2976.0</td>\n",
       "      <td>2976.0</td>\n",
       "      <td>2976.0</td>\n",
       "      <td>2976.0</td>\n",
       "      <td>3690217.0</td>\n",
       "      <td>2976.000000</td>\n",
       "    </tr>\n",
       "    <tr>\n",
       "      <th>2025-06-06 14:59:59</th>\n",
       "      <td>2976.0</td>\n",
       "      <td>2976.0</td>\n",
       "      <td>2976.0</td>\n",
       "      <td>2976.0</td>\n",
       "      <td>3690507.0</td>\n",
       "      <td>2976.000000</td>\n",
       "    </tr>\n",
       "    <tr>\n",
       "      <th>2025-06-06 15:00:00</th>\n",
       "      <td>2975.0</td>\n",
       "      <td>2975.0</td>\n",
       "      <td>2975.0</td>\n",
       "      <td>2975.0</td>\n",
       "      <td>1845348.0</td>\n",
       "      <td>2975.000000</td>\n",
       "    </tr>\n",
       "  </tbody>\n",
       "</table>\n",
       "<p>64861 rows × 6 columns</p>\n",
       "</div>"
      ],
      "text/plain": [
       "                       open    high     low   close     volume         vwap\n",
       "timestamp                                                                  \n",
       "2025-06-05 20:59:00  2969.0  2969.0  2969.0  2969.0     4205.0  2969.000000\n",
       "2025-06-05 20:59:01     NaN     NaN     NaN     NaN        0.0          NaN\n",
       "2025-06-05 20:59:02     NaN     NaN     NaN     NaN        0.0          NaN\n",
       "2025-06-05 20:59:03     NaN     NaN     NaN     NaN        0.0          NaN\n",
       "2025-06-05 20:59:04     NaN     NaN     NaN     NaN        0.0          NaN\n",
       "...                     ...     ...     ...     ...        ...          ...\n",
       "2025-06-06 14:59:56  2976.0  2977.0  2976.0  2977.0  3689644.0  2976.500003\n",
       "2025-06-06 14:59:57  2977.0  2977.0  2976.0  2976.0  3689941.0  2976.499993\n",
       "2025-06-06 14:59:58  2976.0  2976.0  2976.0  2976.0  3690217.0  2976.000000\n",
       "2025-06-06 14:59:59  2976.0  2976.0  2976.0  2976.0  3690507.0  2976.000000\n",
       "2025-06-06 15:00:00  2975.0  2975.0  2975.0  2975.0  1845348.0  2975.000000\n",
       "\n",
       "[64861 rows x 6 columns]"
      ]
     },
     "execution_count": 4,
     "metadata": {},
     "output_type": "execute_result"
    }
   ],
   "source": [
    "bars"
   ]
  }
 ],
 "metadata": {
  "kernelspec": {
   "display_name": ".venv",
   "language": "python",
   "name": "python3"
  },
  "language_info": {
   "codemirror_mode": {
    "name": "ipython",
    "version": 3
   },
   "file_extension": ".py",
   "mimetype": "text/x-python",
   "name": "python",
   "nbconvert_exporter": "python",
   "pygments_lexer": "ipython3",
   "version": "3.13.0"
  }
 },
 "nbformat": 4,
 "nbformat_minor": 5
}
