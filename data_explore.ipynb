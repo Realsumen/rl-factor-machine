{
 "cells": [
  {
   "cell_type": "code",
   "execution_count": 1,
   "id": "2d0ab7db",
   "metadata": {},
   "outputs": [],
   "source": [
    "import pandas as pd\n",
    "from data import load_market_data"
   ]
  },
  {
   "cell_type": "code",
   "execution_count": 2,
   "id": "9160a89c",
   "metadata": {},
   "outputs": [
    {
     "data": {
      "text/plain": [
       "Index(['open', 'high', 'low', 'close', 'volume', 'amount', 'openInterest',\n",
       "       'target'],\n",
       "      dtype='object')"
      ]
     },
     "execution_count": 2,
     "metadata": {},
     "output_type": "execute_result"
    }
   ],
   "source": [
    "df = load_market_data()\n",
    "\n",
    "df.columns"
   ]
  },
  {
   "cell_type": "code",
   "execution_count": 3,
   "id": "9d0b067f",
   "metadata": {},
   "outputs": [
    {
     "data": {
      "application/vnd.microsoft.datawrangler.viewer.v0+json": {
       "columns": [
        {
         "name": "timestamp",
         "rawType": "datetime64[ns]",
         "type": "datetime"
        },
        {
         "name": "open",
         "rawType": "float64",
         "type": "float"
        },
        {
         "name": "high",
         "rawType": "float64",
         "type": "float"
        },
        {
         "name": "low",
         "rawType": "float64",
         "type": "float"
        },
        {
         "name": "close",
         "rawType": "float64",
         "type": "float"
        },
        {
         "name": "volume",
         "rawType": "float64",
         "type": "float"
        },
        {
         "name": "amount",
         "rawType": "float64",
         "type": "float"
        },
        {
         "name": "openInterest",
         "rawType": "float64",
         "type": "float"
        },
        {
         "name": "target",
         "rawType": "float64",
         "type": "float"
        }
       ],
       "ref": "fe7cd0c4-a9fd-43c1-8bee-120773c4e74a",
       "rows": [
        [
         "2025-06-05 20:59:00",
         "2969.0",
         "2969.0",
         "2969.0",
         "2969.0",
         "0.0",
         "0.0",
         "0.0",
         null
        ],
        [
         "2025-06-05 20:59:01",
         null,
         null,
         null,
         null,
         "0.0",
         "0.0",
         "0.0",
         null
        ],
        [
         "2025-06-05 20:59:02",
         null,
         null,
         null,
         null,
         "0.0",
         "0.0",
         "0.0",
         null
        ],
        [
         "2025-06-05 20:59:03",
         null,
         null,
         null,
         null,
         "0.0",
         "0.0",
         "0.0",
         null
        ],
        [
         "2025-06-05 20:59:04",
         null,
         null,
         null,
         null,
         "0.0",
         "0.0",
         "0.0",
         null
        ],
        [
         "2025-06-05 20:59:05",
         null,
         null,
         null,
         null,
         "0.0",
         "0.0",
         "0.0",
         null
        ],
        [
         "2025-06-05 20:59:06",
         null,
         null,
         null,
         null,
         "0.0",
         "0.0",
         "0.0",
         null
        ],
        [
         "2025-06-05 20:59:07",
         null,
         null,
         null,
         null,
         "0.0",
         "0.0",
         "0.0",
         null
        ],
        [
         "2025-06-05 20:59:08",
         null,
         null,
         null,
         null,
         "0.0",
         "0.0",
         "0.0",
         null
        ],
        [
         "2025-06-05 20:59:09",
         null,
         null,
         null,
         null,
         "0.0",
         "0.0",
         "0.0",
         null
        ],
        [
         "2025-06-05 20:59:10",
         null,
         null,
         null,
         null,
         "0.0",
         "0.0",
         "0.0",
         null
        ],
        [
         "2025-06-05 20:59:11",
         null,
         null,
         null,
         null,
         "0.0",
         "0.0",
         "0.0",
         null
        ],
        [
         "2025-06-05 20:59:12",
         null,
         null,
         null,
         null,
         "0.0",
         "0.0",
         "0.0",
         null
        ],
        [
         "2025-06-05 20:59:13",
         null,
         null,
         null,
         null,
         "0.0",
         "0.0",
         "0.0",
         null
        ],
        [
         "2025-06-05 20:59:14",
         null,
         null,
         null,
         null,
         "0.0",
         "0.0",
         "0.0",
         null
        ],
        [
         "2025-06-05 20:59:15",
         null,
         null,
         null,
         null,
         "0.0",
         "0.0",
         "0.0",
         null
        ],
        [
         "2025-06-05 20:59:16",
         null,
         null,
         null,
         null,
         "0.0",
         "0.0",
         "0.0",
         null
        ],
        [
         "2025-06-05 20:59:17",
         null,
         null,
         null,
         null,
         "0.0",
         "0.0",
         "0.0",
         null
        ],
        [
         "2025-06-05 20:59:18",
         null,
         null,
         null,
         null,
         "0.0",
         "0.0",
         "0.0",
         null
        ],
        [
         "2025-06-05 20:59:19",
         null,
         null,
         null,
         null,
         "0.0",
         "0.0",
         "0.0",
         null
        ],
        [
         "2025-06-05 20:59:20",
         null,
         null,
         null,
         null,
         "0.0",
         "0.0",
         "0.0",
         null
        ],
        [
         "2025-06-05 20:59:21",
         null,
         null,
         null,
         null,
         "0.0",
         "0.0",
         "0.0",
         null
        ],
        [
         "2025-06-05 20:59:22",
         null,
         null,
         null,
         null,
         "0.0",
         "0.0",
         "0.0",
         null
        ],
        [
         "2025-06-05 20:59:23",
         null,
         null,
         null,
         null,
         "0.0",
         "0.0",
         "0.0",
         null
        ],
        [
         "2025-06-05 20:59:24",
         null,
         null,
         null,
         null,
         "0.0",
         "0.0",
         "0.0",
         null
        ],
        [
         "2025-06-05 20:59:25",
         null,
         null,
         null,
         null,
         "0.0",
         "0.0",
         "0.0",
         null
        ],
        [
         "2025-06-05 20:59:26",
         null,
         null,
         null,
         null,
         "0.0",
         "0.0",
         "0.0",
         null
        ],
        [
         "2025-06-05 20:59:27",
         null,
         null,
         null,
         null,
         "0.0",
         "0.0",
         "0.0",
         null
        ],
        [
         "2025-06-05 20:59:28",
         null,
         null,
         null,
         null,
         "0.0",
         "0.0",
         "0.0",
         null
        ],
        [
         "2025-06-05 20:59:29",
         null,
         null,
         null,
         null,
         "0.0",
         "0.0",
         "0.0",
         null
        ],
        [
         "2025-06-05 20:59:30",
         null,
         null,
         null,
         null,
         "0.0",
         "0.0",
         "0.0",
         null
        ],
        [
         "2025-06-05 20:59:31",
         null,
         null,
         null,
         null,
         "0.0",
         "0.0",
         "0.0",
         null
        ],
        [
         "2025-06-05 20:59:32",
         null,
         null,
         null,
         null,
         "0.0",
         "0.0",
         "0.0",
         null
        ],
        [
         "2025-06-05 20:59:33",
         null,
         null,
         null,
         null,
         "0.0",
         "0.0",
         "0.0",
         null
        ],
        [
         "2025-06-05 20:59:34",
         null,
         null,
         null,
         null,
         "0.0",
         "0.0",
         "0.0",
         null
        ],
        [
         "2025-06-05 20:59:35",
         null,
         null,
         null,
         null,
         "0.0",
         "0.0",
         "0.0",
         null
        ],
        [
         "2025-06-05 20:59:36",
         null,
         null,
         null,
         null,
         "0.0",
         "0.0",
         "0.0",
         null
        ],
        [
         "2025-06-05 20:59:37",
         null,
         null,
         null,
         null,
         "0.0",
         "0.0",
         "0.0",
         null
        ],
        [
         "2025-06-05 20:59:38",
         null,
         null,
         null,
         null,
         "0.0",
         "0.0",
         "0.0",
         null
        ],
        [
         "2025-06-05 20:59:39",
         null,
         null,
         null,
         null,
         "0.0",
         "0.0",
         "0.0",
         null
        ],
        [
         "2025-06-05 20:59:40",
         null,
         null,
         null,
         null,
         "0.0",
         "0.0",
         "0.0",
         null
        ],
        [
         "2025-06-05 20:59:41",
         null,
         null,
         null,
         null,
         "0.0",
         "0.0",
         "0.0",
         null
        ],
        [
         "2025-06-05 20:59:42",
         null,
         null,
         null,
         null,
         "0.0",
         "0.0",
         "0.0",
         null
        ],
        [
         "2025-06-05 20:59:43",
         null,
         null,
         null,
         null,
         "0.0",
         "0.0",
         "0.0",
         null
        ],
        [
         "2025-06-05 20:59:44",
         null,
         null,
         null,
         null,
         "0.0",
         "0.0",
         "0.0",
         null
        ],
        [
         "2025-06-05 20:59:45",
         null,
         null,
         null,
         null,
         "0.0",
         "0.0",
         "0.0",
         null
        ],
        [
         "2025-06-05 20:59:46",
         null,
         null,
         null,
         null,
         "0.0",
         "0.0",
         "0.0",
         null
        ],
        [
         "2025-06-05 20:59:47",
         null,
         null,
         null,
         null,
         "0.0",
         "0.0",
         "0.0",
         null
        ],
        [
         "2025-06-05 20:59:48",
         null,
         null,
         null,
         null,
         "0.0",
         "0.0",
         "0.0",
         null
        ],
        [
         "2025-06-05 20:59:49",
         null,
         null,
         null,
         null,
         "0.0",
         "0.0",
         "0.0",
         null
        ]
       ],
       "shape": {
        "columns": 8,
        "rows": 64861
       }
      },
      "text/html": [
       "<div>\n",
       "<style scoped>\n",
       "    .dataframe tbody tr th:only-of-type {\n",
       "        vertical-align: middle;\n",
       "    }\n",
       "\n",
       "    .dataframe tbody tr th {\n",
       "        vertical-align: top;\n",
       "    }\n",
       "\n",
       "    .dataframe thead th {\n",
       "        text-align: right;\n",
       "    }\n",
       "</style>\n",
       "<table border=\"1\" class=\"dataframe\">\n",
       "  <thead>\n",
       "    <tr style=\"text-align: right;\">\n",
       "      <th></th>\n",
       "      <th>open</th>\n",
       "      <th>high</th>\n",
       "      <th>low</th>\n",
       "      <th>close</th>\n",
       "      <th>volume</th>\n",
       "      <th>amount</th>\n",
       "      <th>openInterest</th>\n",
       "      <th>target</th>\n",
       "    </tr>\n",
       "    <tr>\n",
       "      <th>timestamp</th>\n",
       "      <th></th>\n",
       "      <th></th>\n",
       "      <th></th>\n",
       "      <th></th>\n",
       "      <th></th>\n",
       "      <th></th>\n",
       "      <th></th>\n",
       "      <th></th>\n",
       "    </tr>\n",
       "  </thead>\n",
       "  <tbody>\n",
       "    <tr>\n",
       "      <th>2025-06-05 20:59:00</th>\n",
       "      <td>2969.0</td>\n",
       "      <td>2969.000000</td>\n",
       "      <td>2969.000000</td>\n",
       "      <td>2969.0</td>\n",
       "      <td>0.0</td>\n",
       "      <td>0.0</td>\n",
       "      <td>0.0</td>\n",
       "      <td>NaN</td>\n",
       "    </tr>\n",
       "    <tr>\n",
       "      <th>2025-06-05 20:59:01</th>\n",
       "      <td>NaN</td>\n",
       "      <td>NaN</td>\n",
       "      <td>NaN</td>\n",
       "      <td>NaN</td>\n",
       "      <td>0.0</td>\n",
       "      <td>0.0</td>\n",
       "      <td>0.0</td>\n",
       "      <td>NaN</td>\n",
       "    </tr>\n",
       "    <tr>\n",
       "      <th>2025-06-05 20:59:02</th>\n",
       "      <td>NaN</td>\n",
       "      <td>NaN</td>\n",
       "      <td>NaN</td>\n",
       "      <td>NaN</td>\n",
       "      <td>0.0</td>\n",
       "      <td>0.0</td>\n",
       "      <td>0.0</td>\n",
       "      <td>NaN</td>\n",
       "    </tr>\n",
       "    <tr>\n",
       "      <th>2025-06-05 20:59:03</th>\n",
       "      <td>NaN</td>\n",
       "      <td>NaN</td>\n",
       "      <td>NaN</td>\n",
       "      <td>NaN</td>\n",
       "      <td>0.0</td>\n",
       "      <td>0.0</td>\n",
       "      <td>0.0</td>\n",
       "      <td>NaN</td>\n",
       "    </tr>\n",
       "    <tr>\n",
       "      <th>2025-06-05 20:59:04</th>\n",
       "      <td>NaN</td>\n",
       "      <td>NaN</td>\n",
       "      <td>NaN</td>\n",
       "      <td>NaN</td>\n",
       "      <td>0.0</td>\n",
       "      <td>0.0</td>\n",
       "      <td>0.0</td>\n",
       "      <td>NaN</td>\n",
       "    </tr>\n",
       "    <tr>\n",
       "      <th>...</th>\n",
       "      <td>...</td>\n",
       "      <td>...</td>\n",
       "      <td>...</td>\n",
       "      <td>...</td>\n",
       "      <td>...</td>\n",
       "      <td>...</td>\n",
       "      <td>...</td>\n",
       "      <td>...</td>\n",
       "    </tr>\n",
       "    <tr>\n",
       "      <th>2025-06-06 14:59:56</th>\n",
       "      <td>2976.0</td>\n",
       "      <td>2976.468750</td>\n",
       "      <td>2976.200000</td>\n",
       "      <td>2977.0</td>\n",
       "      <td>52.0</td>\n",
       "      <td>1547710.0</td>\n",
       "      <td>-46.0</td>\n",
       "      <td>NaN</td>\n",
       "    </tr>\n",
       "    <tr>\n",
       "      <th>2025-06-06 14:59:57</th>\n",
       "      <td>2977.0</td>\n",
       "      <td>2976.728070</td>\n",
       "      <td>2976.428571</td>\n",
       "      <td>2976.0</td>\n",
       "      <td>163.0</td>\n",
       "      <td>4851920.0</td>\n",
       "      <td>-79.0</td>\n",
       "      <td>NaN</td>\n",
       "    </tr>\n",
       "    <tr>\n",
       "      <th>2025-06-06 14:59:58</th>\n",
       "      <td>2976.0</td>\n",
       "      <td>2976.119048</td>\n",
       "      <td>2975.254237</td>\n",
       "      <td>2976.0</td>\n",
       "      <td>143.0</td>\n",
       "      <td>4255340.0</td>\n",
       "      <td>-93.0</td>\n",
       "      <td>NaN</td>\n",
       "    </tr>\n",
       "    <tr>\n",
       "      <th>2025-06-06 14:59:59</th>\n",
       "      <td>2976.0</td>\n",
       "      <td>2975.270833</td>\n",
       "      <td>2975.251852</td>\n",
       "      <td>2976.0</td>\n",
       "      <td>183.0</td>\n",
       "      <td>5444720.0</td>\n",
       "      <td>-68.0</td>\n",
       "      <td>NaN</td>\n",
       "    </tr>\n",
       "    <tr>\n",
       "      <th>2025-06-06 15:00:00</th>\n",
       "      <td>2975.0</td>\n",
       "      <td>2975.592593</td>\n",
       "      <td>2975.592593</td>\n",
       "      <td>2975.0</td>\n",
       "      <td>27.0</td>\n",
       "      <td>803410.0</td>\n",
       "      <td>-1.0</td>\n",
       "      <td>NaN</td>\n",
       "    </tr>\n",
       "  </tbody>\n",
       "</table>\n",
       "<p>64861 rows × 8 columns</p>\n",
       "</div>"
      ],
      "text/plain": [
       "                       open         high          low   close  volume  \\\n",
       "timestamp                                                               \n",
       "2025-06-05 20:59:00  2969.0  2969.000000  2969.000000  2969.0     0.0   \n",
       "2025-06-05 20:59:01     NaN          NaN          NaN     NaN     0.0   \n",
       "2025-06-05 20:59:02     NaN          NaN          NaN     NaN     0.0   \n",
       "2025-06-05 20:59:03     NaN          NaN          NaN     NaN     0.0   \n",
       "2025-06-05 20:59:04     NaN          NaN          NaN     NaN     0.0   \n",
       "...                     ...          ...          ...     ...     ...   \n",
       "2025-06-06 14:59:56  2976.0  2976.468750  2976.200000  2977.0    52.0   \n",
       "2025-06-06 14:59:57  2977.0  2976.728070  2976.428571  2976.0   163.0   \n",
       "2025-06-06 14:59:58  2976.0  2976.119048  2975.254237  2976.0   143.0   \n",
       "2025-06-06 14:59:59  2976.0  2975.270833  2975.251852  2976.0   183.0   \n",
       "2025-06-06 15:00:00  2975.0  2975.592593  2975.592593  2975.0    27.0   \n",
       "\n",
       "                        amount  openInterest  target  \n",
       "timestamp                                             \n",
       "2025-06-05 20:59:00        0.0           0.0     NaN  \n",
       "2025-06-05 20:59:01        0.0           0.0     NaN  \n",
       "2025-06-05 20:59:02        0.0           0.0     NaN  \n",
       "2025-06-05 20:59:03        0.0           0.0     NaN  \n",
       "2025-06-05 20:59:04        0.0           0.0     NaN  \n",
       "...                        ...           ...     ...  \n",
       "2025-06-06 14:59:56  1547710.0         -46.0     NaN  \n",
       "2025-06-06 14:59:57  4851920.0         -79.0     NaN  \n",
       "2025-06-06 14:59:58  4255340.0         -93.0     NaN  \n",
       "2025-06-06 14:59:59  5444720.0         -68.0     NaN  \n",
       "2025-06-06 15:00:00   803410.0          -1.0     NaN  \n",
       "\n",
       "[64861 rows x 8 columns]"
      ]
     },
     "execution_count": 3,
     "metadata": {},
     "output_type": "execute_result"
    }
   ],
   "source": [
    "df"
   ]
  },
  {
   "cell_type": "code",
   "execution_count": 4,
   "id": "4d609040",
   "metadata": {},
   "outputs": [
    {
     "ename": "KeyError",
     "evalue": "\"None of ['timestamp'] are in the columns\"",
     "output_type": "error",
     "traceback": [
      "\u001b[31m---------------------------------------------------------------------------\u001b[39m",
      "\u001b[31mKeyError\u001b[39m                                  Traceback (most recent call last)",
      "\u001b[36mCell\u001b[39m\u001b[36m \u001b[39m\u001b[32mIn[4]\u001b[39m\u001b[32m, line 1\u001b[39m\n\u001b[32m----> \u001b[39m\u001b[32m1\u001b[39m df = \u001b[43mdf\u001b[49m\u001b[43m.\u001b[49m\u001b[43mset_index\u001b[49m\u001b[43m(\u001b[49m\u001b[33;43m'\u001b[39;49m\u001b[33;43mtimestamp\u001b[39;49m\u001b[33;43m'\u001b[39;49m\u001b[43m)\u001b[49m\n\u001b[32m      3\u001b[39m bars = df[\u001b[33m'\u001b[39m\u001b[33mlast\u001b[39m\u001b[33m'\u001b[39m].resample(\u001b[33m'\u001b[39m\u001b[33m1s\u001b[39m\u001b[33m'\u001b[39m).ohlc()\n\u001b[32m      5\u001b[39m vol = df[\u001b[33m'\u001b[39m\u001b[33mvolume\u001b[39m\u001b[33m'\u001b[39m].resample(\u001b[33m'\u001b[39m\u001b[33m1s\u001b[39m\u001b[33m'\u001b[39m).sum().rename(\u001b[33m'\u001b[39m\u001b[33mvolume\u001b[39m\u001b[33m'\u001b[39m)\n",
      "\u001b[36mFile \u001b[39m\u001b[32mc:\\Users\\Kyle\\Desktop\\workspace\\.venv\\Lib\\site-packages\\pandas\\core\\frame.py:6129\u001b[39m, in \u001b[36mDataFrame.set_index\u001b[39m\u001b[34m(self, keys, drop, append, inplace, verify_integrity)\u001b[39m\n\u001b[32m   6126\u001b[39m                 missing.append(col)\n\u001b[32m   6128\u001b[39m \u001b[38;5;28;01mif\u001b[39;00m missing:\n\u001b[32m-> \u001b[39m\u001b[32m6129\u001b[39m     \u001b[38;5;28;01mraise\u001b[39;00m \u001b[38;5;167;01mKeyError\u001b[39;00m(\u001b[33mf\u001b[39m\u001b[33m\"\u001b[39m\u001b[33mNone of \u001b[39m\u001b[38;5;132;01m{\u001b[39;00mmissing\u001b[38;5;132;01m}\u001b[39;00m\u001b[33m are in the columns\u001b[39m\u001b[33m\"\u001b[39m)\n\u001b[32m   6131\u001b[39m \u001b[38;5;28;01mif\u001b[39;00m inplace:\n\u001b[32m   6132\u001b[39m     frame = \u001b[38;5;28mself\u001b[39m\n",
      "\u001b[31mKeyError\u001b[39m: \"None of ['timestamp'] are in the columns\""
     ]
    }
   ],
   "source": [
    "df = df.set_index('timestamp')\n",
    "\n",
    "bars = df['last'].resample('1s').ohlc()\n",
    "\n",
    "vol = df['volume'].resample('1s').sum().rename('volume')\n",
    "\n",
    "vwap = (df['last'] * df['volume']).resample('1s').sum() / vol\n",
    "vwap = vwap.rename('vwap')\n",
    "\n",
    "bars = bars.join([vol, vwap])\n"
   ]
  },
  {
   "cell_type": "code",
   "execution_count": null,
   "id": "29df5a7f",
   "metadata": {},
   "outputs": [],
   "source": [
    "# volume_skewness, market_temperatur, ask_dominance, bid_dominance"
   ]
  },
  {
   "cell_type": "code",
   "execution_count": null,
   "id": "e3ebca9b",
   "metadata": {},
   "outputs": [
    {
     "data": {
      "application/vnd.microsoft.datawrangler.viewer.v0+json": {
       "columns": [
        {
         "name": "timestamp",
         "rawType": "datetime64[ns]",
         "type": "datetime"
        },
        {
         "name": "open",
         "rawType": "float64",
         "type": "float"
        },
        {
         "name": "high",
         "rawType": "float64",
         "type": "float"
        },
        {
         "name": "low",
         "rawType": "float64",
         "type": "float"
        },
        {
         "name": "close",
         "rawType": "float64",
         "type": "float"
        },
        {
         "name": "volume",
         "rawType": "float64",
         "type": "float"
        },
        {
         "name": "vwap",
         "rawType": "float64",
         "type": "float"
        }
       ],
       "ref": "5983704d-209c-4b05-a92b-82eb6dffe40e",
       "rows": [
        [
         "2025-06-05 20:59:00",
         "2969.0",
         "2969.0",
         "2969.0",
         "2969.0",
         "4205.0",
         "2969.0"
        ],
        [
         "2025-06-05 20:59:01",
         null,
         null,
         null,
         null,
         "0.0",
         null
        ],
        [
         "2025-06-05 20:59:02",
         null,
         null,
         null,
         null,
         "0.0",
         null
        ],
        [
         "2025-06-05 20:59:03",
         null,
         null,
         null,
         null,
         "0.0",
         null
        ],
        [
         "2025-06-05 20:59:04",
         null,
         null,
         null,
         null,
         "0.0",
         null
        ],
        [
         "2025-06-05 20:59:05",
         null,
         null,
         null,
         null,
         "0.0",
         null
        ],
        [
         "2025-06-05 20:59:06",
         null,
         null,
         null,
         null,
         "0.0",
         null
        ],
        [
         "2025-06-05 20:59:07",
         null,
         null,
         null,
         null,
         "0.0",
         null
        ],
        [
         "2025-06-05 20:59:08",
         null,
         null,
         null,
         null,
         "0.0",
         null
        ],
        [
         "2025-06-05 20:59:09",
         null,
         null,
         null,
         null,
         "0.0",
         null
        ],
        [
         "2025-06-05 20:59:10",
         null,
         null,
         null,
         null,
         "0.0",
         null
        ],
        [
         "2025-06-05 20:59:11",
         null,
         null,
         null,
         null,
         "0.0",
         null
        ],
        [
         "2025-06-05 20:59:12",
         null,
         null,
         null,
         null,
         "0.0",
         null
        ],
        [
         "2025-06-05 20:59:13",
         null,
         null,
         null,
         null,
         "0.0",
         null
        ],
        [
         "2025-06-05 20:59:14",
         null,
         null,
         null,
         null,
         "0.0",
         null
        ],
        [
         "2025-06-05 20:59:15",
         null,
         null,
         null,
         null,
         "0.0",
         null
        ],
        [
         "2025-06-05 20:59:16",
         null,
         null,
         null,
         null,
         "0.0",
         null
        ],
        [
         "2025-06-05 20:59:17",
         null,
         null,
         null,
         null,
         "0.0",
         null
        ],
        [
         "2025-06-05 20:59:18",
         null,
         null,
         null,
         null,
         "0.0",
         null
        ],
        [
         "2025-06-05 20:59:19",
         null,
         null,
         null,
         null,
         "0.0",
         null
        ],
        [
         "2025-06-05 20:59:20",
         null,
         null,
         null,
         null,
         "0.0",
         null
        ],
        [
         "2025-06-05 20:59:21",
         null,
         null,
         null,
         null,
         "0.0",
         null
        ],
        [
         "2025-06-05 20:59:22",
         null,
         null,
         null,
         null,
         "0.0",
         null
        ],
        [
         "2025-06-05 20:59:23",
         null,
         null,
         null,
         null,
         "0.0",
         null
        ],
        [
         "2025-06-05 20:59:24",
         null,
         null,
         null,
         null,
         "0.0",
         null
        ],
        [
         "2025-06-05 20:59:25",
         null,
         null,
         null,
         null,
         "0.0",
         null
        ],
        [
         "2025-06-05 20:59:26",
         null,
         null,
         null,
         null,
         "0.0",
         null
        ],
        [
         "2025-06-05 20:59:27",
         null,
         null,
         null,
         null,
         "0.0",
         null
        ],
        [
         "2025-06-05 20:59:28",
         null,
         null,
         null,
         null,
         "0.0",
         null
        ],
        [
         "2025-06-05 20:59:29",
         null,
         null,
         null,
         null,
         "0.0",
         null
        ],
        [
         "2025-06-05 20:59:30",
         null,
         null,
         null,
         null,
         "0.0",
         null
        ],
        [
         "2025-06-05 20:59:31",
         null,
         null,
         null,
         null,
         "0.0",
         null
        ],
        [
         "2025-06-05 20:59:32",
         null,
         null,
         null,
         null,
         "0.0",
         null
        ],
        [
         "2025-06-05 20:59:33",
         null,
         null,
         null,
         null,
         "0.0",
         null
        ],
        [
         "2025-06-05 20:59:34",
         null,
         null,
         null,
         null,
         "0.0",
         null
        ],
        [
         "2025-06-05 20:59:35",
         null,
         null,
         null,
         null,
         "0.0",
         null
        ],
        [
         "2025-06-05 20:59:36",
         null,
         null,
         null,
         null,
         "0.0",
         null
        ],
        [
         "2025-06-05 20:59:37",
         null,
         null,
         null,
         null,
         "0.0",
         null
        ],
        [
         "2025-06-05 20:59:38",
         null,
         null,
         null,
         null,
         "0.0",
         null
        ],
        [
         "2025-06-05 20:59:39",
         null,
         null,
         null,
         null,
         "0.0",
         null
        ],
        [
         "2025-06-05 20:59:40",
         null,
         null,
         null,
         null,
         "0.0",
         null
        ],
        [
         "2025-06-05 20:59:41",
         null,
         null,
         null,
         null,
         "0.0",
         null
        ],
        [
         "2025-06-05 20:59:42",
         null,
         null,
         null,
         null,
         "0.0",
         null
        ],
        [
         "2025-06-05 20:59:43",
         null,
         null,
         null,
         null,
         "0.0",
         null
        ],
        [
         "2025-06-05 20:59:44",
         null,
         null,
         null,
         null,
         "0.0",
         null
        ],
        [
         "2025-06-05 20:59:45",
         null,
         null,
         null,
         null,
         "0.0",
         null
        ],
        [
         "2025-06-05 20:59:46",
         null,
         null,
         null,
         null,
         "0.0",
         null
        ],
        [
         "2025-06-05 20:59:47",
         null,
         null,
         null,
         null,
         "0.0",
         null
        ],
        [
         "2025-06-05 20:59:48",
         null,
         null,
         null,
         null,
         "0.0",
         null
        ],
        [
         "2025-06-05 20:59:49",
         null,
         null,
         null,
         null,
         "0.0",
         null
        ]
       ],
       "shape": {
        "columns": 6,
        "rows": 64861
       }
      },
      "text/html": [
       "<div>\n",
       "<style scoped>\n",
       "    .dataframe tbody tr th:only-of-type {\n",
       "        vertical-align: middle;\n",
       "    }\n",
       "\n",
       "    .dataframe tbody tr th {\n",
       "        vertical-align: top;\n",
       "    }\n",
       "\n",
       "    .dataframe thead th {\n",
       "        text-align: right;\n",
       "    }\n",
       "</style>\n",
       "<table border=\"1\" class=\"dataframe\">\n",
       "  <thead>\n",
       "    <tr style=\"text-align: right;\">\n",
       "      <th></th>\n",
       "      <th>open</th>\n",
       "      <th>high</th>\n",
       "      <th>low</th>\n",
       "      <th>close</th>\n",
       "      <th>volume</th>\n",
       "      <th>vwap</th>\n",
       "    </tr>\n",
       "    <tr>\n",
       "      <th>timestamp</th>\n",
       "      <th></th>\n",
       "      <th></th>\n",
       "      <th></th>\n",
       "      <th></th>\n",
       "      <th></th>\n",
       "      <th></th>\n",
       "    </tr>\n",
       "  </thead>\n",
       "  <tbody>\n",
       "    <tr>\n",
       "      <th>2025-06-05 20:59:00</th>\n",
       "      <td>2969.0</td>\n",
       "      <td>2969.0</td>\n",
       "      <td>2969.0</td>\n",
       "      <td>2969.0</td>\n",
       "      <td>4205.0</td>\n",
       "      <td>2969.000000</td>\n",
       "    </tr>\n",
       "    <tr>\n",
       "      <th>2025-06-05 20:59:01</th>\n",
       "      <td>NaN</td>\n",
       "      <td>NaN</td>\n",
       "      <td>NaN</td>\n",
       "      <td>NaN</td>\n",
       "      <td>0.0</td>\n",
       "      <td>NaN</td>\n",
       "    </tr>\n",
       "    <tr>\n",
       "      <th>2025-06-05 20:59:02</th>\n",
       "      <td>NaN</td>\n",
       "      <td>NaN</td>\n",
       "      <td>NaN</td>\n",
       "      <td>NaN</td>\n",
       "      <td>0.0</td>\n",
       "      <td>NaN</td>\n",
       "    </tr>\n",
       "    <tr>\n",
       "      <th>2025-06-05 20:59:03</th>\n",
       "      <td>NaN</td>\n",
       "      <td>NaN</td>\n",
       "      <td>NaN</td>\n",
       "      <td>NaN</td>\n",
       "      <td>0.0</td>\n",
       "      <td>NaN</td>\n",
       "    </tr>\n",
       "    <tr>\n",
       "      <th>2025-06-05 20:59:04</th>\n",
       "      <td>NaN</td>\n",
       "      <td>NaN</td>\n",
       "      <td>NaN</td>\n",
       "      <td>NaN</td>\n",
       "      <td>0.0</td>\n",
       "      <td>NaN</td>\n",
       "    </tr>\n",
       "    <tr>\n",
       "      <th>...</th>\n",
       "      <td>...</td>\n",
       "      <td>...</td>\n",
       "      <td>...</td>\n",
       "      <td>...</td>\n",
       "      <td>...</td>\n",
       "      <td>...</td>\n",
       "    </tr>\n",
       "    <tr>\n",
       "      <th>2025-06-06 14:59:56</th>\n",
       "      <td>2976.0</td>\n",
       "      <td>2977.0</td>\n",
       "      <td>2976.0</td>\n",
       "      <td>2977.0</td>\n",
       "      <td>3689644.0</td>\n",
       "      <td>2976.500003</td>\n",
       "    </tr>\n",
       "    <tr>\n",
       "      <th>2025-06-06 14:59:57</th>\n",
       "      <td>2977.0</td>\n",
       "      <td>2977.0</td>\n",
       "      <td>2976.0</td>\n",
       "      <td>2976.0</td>\n",
       "      <td>3689941.0</td>\n",
       "      <td>2976.499993</td>\n",
       "    </tr>\n",
       "    <tr>\n",
       "      <th>2025-06-06 14:59:58</th>\n",
       "      <td>2976.0</td>\n",
       "      <td>2976.0</td>\n",
       "      <td>2976.0</td>\n",
       "      <td>2976.0</td>\n",
       "      <td>3690217.0</td>\n",
       "      <td>2976.000000</td>\n",
       "    </tr>\n",
       "    <tr>\n",
       "      <th>2025-06-06 14:59:59</th>\n",
       "      <td>2976.0</td>\n",
       "      <td>2976.0</td>\n",
       "      <td>2976.0</td>\n",
       "      <td>2976.0</td>\n",
       "      <td>3690507.0</td>\n",
       "      <td>2976.000000</td>\n",
       "    </tr>\n",
       "    <tr>\n",
       "      <th>2025-06-06 15:00:00</th>\n",
       "      <td>2975.0</td>\n",
       "      <td>2975.0</td>\n",
       "      <td>2975.0</td>\n",
       "      <td>2975.0</td>\n",
       "      <td>1845348.0</td>\n",
       "      <td>2975.000000</td>\n",
       "    </tr>\n",
       "  </tbody>\n",
       "</table>\n",
       "<p>64861 rows × 6 columns</p>\n",
       "</div>"
      ],
      "text/plain": [
       "                       open    high     low   close     volume         vwap\n",
       "timestamp                                                                  \n",
       "2025-06-05 20:59:00  2969.0  2969.0  2969.0  2969.0     4205.0  2969.000000\n",
       "2025-06-05 20:59:01     NaN     NaN     NaN     NaN        0.0          NaN\n",
       "2025-06-05 20:59:02     NaN     NaN     NaN     NaN        0.0          NaN\n",
       "2025-06-05 20:59:03     NaN     NaN     NaN     NaN        0.0          NaN\n",
       "2025-06-05 20:59:04     NaN     NaN     NaN     NaN        0.0          NaN\n",
       "...                     ...     ...     ...     ...        ...          ...\n",
       "2025-06-06 14:59:56  2976.0  2977.0  2976.0  2977.0  3689644.0  2976.500003\n",
       "2025-06-06 14:59:57  2977.0  2977.0  2976.0  2976.0  3689941.0  2976.499993\n",
       "2025-06-06 14:59:58  2976.0  2976.0  2976.0  2976.0  3690217.0  2976.000000\n",
       "2025-06-06 14:59:59  2976.0  2976.0  2976.0  2976.0  3690507.0  2976.000000\n",
       "2025-06-06 15:00:00  2975.0  2975.0  2975.0  2975.0  1845348.0  2975.000000\n",
       "\n",
       "[64861 rows x 6 columns]"
      ]
     },
     "execution_count": 5,
     "metadata": {},
     "output_type": "execute_result"
    }
   ],
   "source": [
    "bars"
   ]
  }
 ],
 "metadata": {
  "kernelspec": {
   "display_name": "workspace",
   "language": "python",
   "name": "python3"
  },
  "language_info": {
   "codemirror_mode": {
    "name": "ipython",
    "version": 3
   },
   "file_extension": ".py",
   "mimetype": "text/x-python",
   "name": "python",
   "nbconvert_exporter": "python",
   "pygments_lexer": "ipython3",
   "version": "3.11.7"
  }
 },
 "nbformat": 4,
 "nbformat_minor": 5
}
