{
 "cells": [
  {
   "cell_type": "code",
   "execution_count": 1,
   "id": "2d0ab7db",
   "metadata": {},
   "outputs": [],
   "source": [
    "import os\n",
    "import yaml\n",
    "import pandas as pd\n",
    "\n",
    "from utility import set_random_seed\n",
    "from data import load_symbol_dfs\n",
    "from combination import AlphaCombinationModel\n",
    "from tokenizer import AlphaTokenizer\n",
    "from alpha_generation_env import AlphaGenerationEnv\n",
    "from generator import RLAlphaGenerator\n",
    "import pathlib\n",
    "from glob import glob\n",
    "\n",
    "config_path = \"configs/trial_config.yaml\"\n",
    "config_path = \"configs/config.yaml\"\n",
    "\n",
    "with open(config_path, \"r\", encoding=\"utf-8\") as f:\n",
    "    cfg = yaml.safe_load(f)\n",
    "\n",
    "set_random_seed(cfg.get(\"random_seed\", 42))\n",
    "\n",
    "gen_cfg = cfg[\"generator\"]\n",
    "data_cfg = cfg[\"data\"]\n",
    "envs_cfg = cfg[\"env\"]"
   ]
  },
  {
   "cell_type": "code",
   "execution_count": 2,
   "id": "909cc490",
   "metadata": {},
   "outputs": [
    {
     "data": {
      "text/plain": [
       "Index(['index', 'timestamp', 'instrumentID', 'exchangeID', 'last', 'iopv',\n",
       "       'bid1', 'bid2', 'bid3', 'bid4', 'bid5', 'ask1', 'ask2', 'ask3', 'ask4',\n",
       "       'ask5', 'bidSize1', 'bidSize2', 'bidSize3', 'bidSize4', 'bidSize5',\n",
       "       'askSize1', 'askSize2', 'askSize3', 'askSize4', 'askSize5', 'volume',\n",
       "       'amount', 'openInterest', 'updateTime', 'tradingPhaseCode',\n",
       "       'indicativeAuctionPrice', 'indexPrice', 'epochTime', 'openInterest_chg',\n",
       "       'volume_chg', 'avgprice', 'market_hit_bid', 'market_hit_ask',\n",
       "       'bidSize1_diff', 'bidSize2_diff', 'bidSize3_diff', 'bidSize4_diff',\n",
       "       'bidSize5_diff', 'askSize1_diff', 'askSize2_diff', 'askSize3_diff',\n",
       "       'askSize4_diff', 'askSize5_diff'],\n",
       "      dtype='object')"
      ]
     },
     "execution_count": 2,
     "metadata": {},
     "output_type": "execute_result"
    }
   ],
   "source": [
    "data = pd.read_parquet(\"data/rb_20241217.parquet\")\n",
    "\n",
    "data.columns"
   ]
  },
  {
   "cell_type": "code",
   "execution_count": 3,
   "id": "5a177c76",
   "metadata": {},
   "outputs": [],
   "source": [
    "data_dict = cfg[\"data\"]\n",
    "\n",
    "n = data_dict[\"n\"]\n",
    "\n",
    "symbol_dict = data_dict[\"symbol\"]\n",
    "path = data_dict[\"path\"]\n",
    "\n",
    "start_date, end_date = data_dict[\"date_range\"][0], data_dict[\"date_range\"][1]"
   ]
  },
  {
   "cell_type": "code",
   "execution_count": null,
   "id": "3f4517f4",
   "metadata": {},
   "outputs": [],
   "source": [
    "from data import load_symbol_dfs\n",
    "\n",
    "data_dfs = load_symbol_dfs(\n",
    "    directory=path,\n",
    "    symbols=symbol_dict,\n",
    "    start_date=start_date,\n",
    "    end_date=end_date,\n",
    "    n=n,\n",
    "    base_fields=envs_cfg[\"base_fields\"],\n",
    ")\n",
    "\n",
    "data = pd.concat(data_dfs[\"rb\"])"
   ]
  },
  {
   "cell_type": "code",
   "execution_count": null,
   "id": "ba6cd700",
   "metadata": {},
   "outputs": [],
   "source": []
  }
 ],
 "metadata": {
  "kernelspec": {
   "display_name": "workspace",
   "language": "python",
   "name": "python3"
  },
  "language_info": {
   "codemirror_mode": {
    "name": "ipython",
    "version": 3
   },
   "file_extension": ".py",
   "mimetype": "text/x-python",
   "name": "python",
   "nbconvert_exporter": "python",
   "pygments_lexer": "ipython3",
   "version": "3.11.7"
  }
 },
 "nbformat": 4,
 "nbformat_minor": 5
}
