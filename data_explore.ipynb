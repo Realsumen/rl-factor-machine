{
 "cells": [
  {
   "cell_type": "code",
   "execution_count": 14,
   "id": "2d0ab7db",
   "metadata": {},
   "outputs": [
    {
     "ename": "ConstructorError",
     "evalue": "could not determine a constructor for the tag 'tag:yaml.org,2002:3e-4'\n  in \"config.yaml\", line 24, column 14",
     "output_type": "error",
     "traceback": [
      "\u001b[31m---------------------------------------------------------------------------\u001b[39m",
      "\u001b[31mConstructorError\u001b[39m                          Traceback (most recent call last)",
      "\u001b[36mCell\u001b[39m\u001b[36m \u001b[39m\u001b[32mIn[14]\u001b[39m\u001b[32m, line 17\u001b[39m\n\u001b[32m     14\u001b[39m config_path = \u001b[33m\"\u001b[39m\u001b[33mconfig.yaml\u001b[39m\u001b[33m\"\u001b[39m\n\u001b[32m     16\u001b[39m \u001b[38;5;28;01mwith\u001b[39;00m \u001b[38;5;28mopen\u001b[39m(config_path, \u001b[33m\"\u001b[39m\u001b[33mr\u001b[39m\u001b[33m\"\u001b[39m) \u001b[38;5;28;01mas\u001b[39;00m f:\n\u001b[32m---> \u001b[39m\u001b[32m17\u001b[39m     cfg = \u001b[43myaml\u001b[49m\u001b[43m.\u001b[49m\u001b[43msafe_load\u001b[49m\u001b[43m(\u001b[49m\u001b[43mf\u001b[49m\u001b[43m)\u001b[49m\n\u001b[32m     19\u001b[39m set_random_seed(cfg.get(\u001b[33m\"\u001b[39m\u001b[33mrandom_seed\u001b[39m\u001b[33m\"\u001b[39m, \u001b[32m42\u001b[39m))\n",
      "\u001b[36mFile \u001b[39m\u001b[32m~/Documents/workspace/25summer/.venv/lib/python3.13/site-packages/yaml/__init__.py:125\u001b[39m, in \u001b[36msafe_load\u001b[39m\u001b[34m(stream)\u001b[39m\n\u001b[32m    117\u001b[39m \u001b[38;5;28;01mdef\u001b[39;00m\u001b[38;5;250m \u001b[39m\u001b[34msafe_load\u001b[39m(stream):\n\u001b[32m    118\u001b[39m \u001b[38;5;250m    \u001b[39m\u001b[33;03m\"\"\"\u001b[39;00m\n\u001b[32m    119\u001b[39m \u001b[33;03m    Parse the first YAML document in a stream\u001b[39;00m\n\u001b[32m    120\u001b[39m \u001b[33;03m    and produce the corresponding Python object.\u001b[39;00m\n\u001b[32m   (...)\u001b[39m\u001b[32m    123\u001b[39m \u001b[33;03m    to be safe for untrusted input.\u001b[39;00m\n\u001b[32m    124\u001b[39m \u001b[33;03m    \"\"\"\u001b[39;00m\n\u001b[32m--> \u001b[39m\u001b[32m125\u001b[39m     \u001b[38;5;28;01mreturn\u001b[39;00m \u001b[43mload\u001b[49m\u001b[43m(\u001b[49m\u001b[43mstream\u001b[49m\u001b[43m,\u001b[49m\u001b[43m \u001b[49m\u001b[43mSafeLoader\u001b[49m\u001b[43m)\u001b[49m\n",
      "\u001b[36mFile \u001b[39m\u001b[32m~/Documents/workspace/25summer/.venv/lib/python3.13/site-packages/yaml/__init__.py:81\u001b[39m, in \u001b[36mload\u001b[39m\u001b[34m(stream, Loader)\u001b[39m\n\u001b[32m     79\u001b[39m loader = Loader(stream)\n\u001b[32m     80\u001b[39m \u001b[38;5;28;01mtry\u001b[39;00m:\n\u001b[32m---> \u001b[39m\u001b[32m81\u001b[39m     \u001b[38;5;28;01mreturn\u001b[39;00m \u001b[43mloader\u001b[49m\u001b[43m.\u001b[49m\u001b[43mget_single_data\u001b[49m\u001b[43m(\u001b[49m\u001b[43m)\u001b[49m\n\u001b[32m     82\u001b[39m \u001b[38;5;28;01mfinally\u001b[39;00m:\n\u001b[32m     83\u001b[39m     loader.dispose()\n",
      "\u001b[36mFile \u001b[39m\u001b[32m~/Documents/workspace/25summer/.venv/lib/python3.13/site-packages/yaml/constructor.py:51\u001b[39m, in \u001b[36mBaseConstructor.get_single_data\u001b[39m\u001b[34m(self)\u001b[39m\n\u001b[32m     49\u001b[39m node = \u001b[38;5;28mself\u001b[39m.get_single_node()\n\u001b[32m     50\u001b[39m \u001b[38;5;28;01mif\u001b[39;00m node \u001b[38;5;129;01mis\u001b[39;00m \u001b[38;5;129;01mnot\u001b[39;00m \u001b[38;5;28;01mNone\u001b[39;00m:\n\u001b[32m---> \u001b[39m\u001b[32m51\u001b[39m     \u001b[38;5;28;01mreturn\u001b[39;00m \u001b[38;5;28;43mself\u001b[39;49m\u001b[43m.\u001b[49m\u001b[43mconstruct_document\u001b[49m\u001b[43m(\u001b[49m\u001b[43mnode\u001b[49m\u001b[43m)\u001b[49m\n\u001b[32m     52\u001b[39m \u001b[38;5;28;01mreturn\u001b[39;00m \u001b[38;5;28;01mNone\u001b[39;00m\n",
      "\u001b[36mFile \u001b[39m\u001b[32m~/Documents/workspace/25summer/.venv/lib/python3.13/site-packages/yaml/constructor.py:60\u001b[39m, in \u001b[36mBaseConstructor.construct_document\u001b[39m\u001b[34m(self, node)\u001b[39m\n\u001b[32m     58\u001b[39m     \u001b[38;5;28mself\u001b[39m.state_generators = []\n\u001b[32m     59\u001b[39m     \u001b[38;5;28;01mfor\u001b[39;00m generator \u001b[38;5;129;01min\u001b[39;00m state_generators:\n\u001b[32m---> \u001b[39m\u001b[32m60\u001b[39m \u001b[43m        \u001b[49m\u001b[38;5;28;43;01mfor\u001b[39;49;00m\u001b[43m \u001b[49m\u001b[43mdummy\u001b[49m\u001b[43m \u001b[49m\u001b[38;5;129;43;01min\u001b[39;49;00m\u001b[43m \u001b[49m\u001b[43mgenerator\u001b[49m\u001b[43m:\u001b[49m\n\u001b[32m     61\u001b[39m \u001b[43m            \u001b[49m\u001b[38;5;28;43;01mpass\u001b[39;49;00m\n\u001b[32m     62\u001b[39m \u001b[38;5;28mself\u001b[39m.constructed_objects = {}\n",
      "\u001b[36mFile \u001b[39m\u001b[32m~/Documents/workspace/25summer/.venv/lib/python3.13/site-packages/yaml/constructor.py:413\u001b[39m, in \u001b[36mSafeConstructor.construct_yaml_map\u001b[39m\u001b[34m(self, node)\u001b[39m\n\u001b[32m    411\u001b[39m data = {}\n\u001b[32m    412\u001b[39m \u001b[38;5;28;01myield\u001b[39;00m data\n\u001b[32m--> \u001b[39m\u001b[32m413\u001b[39m value = \u001b[38;5;28;43mself\u001b[39;49m\u001b[43m.\u001b[49m\u001b[43mconstruct_mapping\u001b[49m\u001b[43m(\u001b[49m\u001b[43mnode\u001b[49m\u001b[43m)\u001b[49m\n\u001b[32m    414\u001b[39m data.update(value)\n",
      "\u001b[36mFile \u001b[39m\u001b[32m~/Documents/workspace/25summer/.venv/lib/python3.13/site-packages/yaml/constructor.py:218\u001b[39m, in \u001b[36mSafeConstructor.construct_mapping\u001b[39m\u001b[34m(self, node, deep)\u001b[39m\n\u001b[32m    216\u001b[39m \u001b[38;5;28;01mif\u001b[39;00m \u001b[38;5;28misinstance\u001b[39m(node, MappingNode):\n\u001b[32m    217\u001b[39m     \u001b[38;5;28mself\u001b[39m.flatten_mapping(node)\n\u001b[32m--> \u001b[39m\u001b[32m218\u001b[39m \u001b[38;5;28;01mreturn\u001b[39;00m \u001b[38;5;28;43msuper\u001b[39;49m\u001b[43m(\u001b[49m\u001b[43m)\u001b[49m\u001b[43m.\u001b[49m\u001b[43mconstruct_mapping\u001b[49m\u001b[43m(\u001b[49m\u001b[43mnode\u001b[49m\u001b[43m,\u001b[49m\u001b[43m \u001b[49m\u001b[43mdeep\u001b[49m\u001b[43m=\u001b[49m\u001b[43mdeep\u001b[49m\u001b[43m)\u001b[49m\n",
      "\u001b[36mFile \u001b[39m\u001b[32m~/Documents/workspace/25summer/.venv/lib/python3.13/site-packages/yaml/constructor.py:143\u001b[39m, in \u001b[36mBaseConstructor.construct_mapping\u001b[39m\u001b[34m(self, node, deep)\u001b[39m\n\u001b[32m    140\u001b[39m     \u001b[38;5;28;01mif\u001b[39;00m \u001b[38;5;129;01mnot\u001b[39;00m \u001b[38;5;28misinstance\u001b[39m(key, collections.abc.Hashable):\n\u001b[32m    141\u001b[39m         \u001b[38;5;28;01mraise\u001b[39;00m ConstructorError(\u001b[33m\"\u001b[39m\u001b[33mwhile constructing a mapping\u001b[39m\u001b[33m\"\u001b[39m, node.start_mark,\n\u001b[32m    142\u001b[39m                 \u001b[33m\"\u001b[39m\u001b[33mfound unhashable key\u001b[39m\u001b[33m\"\u001b[39m, key_node.start_mark)\n\u001b[32m--> \u001b[39m\u001b[32m143\u001b[39m     value = \u001b[38;5;28;43mself\u001b[39;49m\u001b[43m.\u001b[49m\u001b[43mconstruct_object\u001b[49m\u001b[43m(\u001b[49m\u001b[43mvalue_node\u001b[49m\u001b[43m,\u001b[49m\u001b[43m \u001b[49m\u001b[43mdeep\u001b[49m\u001b[43m=\u001b[49m\u001b[43mdeep\u001b[49m\u001b[43m)\u001b[49m\n\u001b[32m    144\u001b[39m     mapping[key] = value\n\u001b[32m    145\u001b[39m \u001b[38;5;28;01mreturn\u001b[39;00m mapping\n",
      "\u001b[36mFile \u001b[39m\u001b[32m~/Documents/workspace/25summer/.venv/lib/python3.13/site-packages/yaml/constructor.py:100\u001b[39m, in \u001b[36mBaseConstructor.construct_object\u001b[39m\u001b[34m(self, node, deep)\u001b[39m\n\u001b[32m     98\u001b[39m             constructor = \u001b[38;5;28mself\u001b[39m.\u001b[34m__class__\u001b[39m.construct_mapping\n\u001b[32m     99\u001b[39m \u001b[38;5;28;01mif\u001b[39;00m tag_suffix \u001b[38;5;129;01mis\u001b[39;00m \u001b[38;5;28;01mNone\u001b[39;00m:\n\u001b[32m--> \u001b[39m\u001b[32m100\u001b[39m     data = \u001b[43mconstructor\u001b[49m\u001b[43m(\u001b[49m\u001b[38;5;28;43mself\u001b[39;49m\u001b[43m,\u001b[49m\u001b[43m \u001b[49m\u001b[43mnode\u001b[49m\u001b[43m)\u001b[49m\n\u001b[32m    101\u001b[39m \u001b[38;5;28;01melse\u001b[39;00m:\n\u001b[32m    102\u001b[39m     data = constructor(\u001b[38;5;28mself\u001b[39m, tag_suffix, node)\n",
      "\u001b[36mFile \u001b[39m\u001b[32m~/Documents/workspace/25summer/.venv/lib/python3.13/site-packages/yaml/constructor.py:427\u001b[39m, in \u001b[36mSafeConstructor.construct_undefined\u001b[39m\u001b[34m(self, node)\u001b[39m\n\u001b[32m    426\u001b[39m \u001b[38;5;28;01mdef\u001b[39;00m\u001b[38;5;250m \u001b[39m\u001b[34mconstruct_undefined\u001b[39m(\u001b[38;5;28mself\u001b[39m, node):\n\u001b[32m--> \u001b[39m\u001b[32m427\u001b[39m     \u001b[38;5;28;01mraise\u001b[39;00m ConstructorError(\u001b[38;5;28;01mNone\u001b[39;00m, \u001b[38;5;28;01mNone\u001b[39;00m,\n\u001b[32m    428\u001b[39m             \u001b[33m\"\u001b[39m\u001b[33mcould not determine a constructor for the tag \u001b[39m\u001b[38;5;132;01m%r\u001b[39;00m\u001b[33m\"\u001b[39m % node.tag,\n\u001b[32m    429\u001b[39m             node.start_mark)\n",
      "\u001b[31mConstructorError\u001b[39m: could not determine a constructor for the tag 'tag:yaml.org,2002:3e-4'\n  in \"config.yaml\", line 24, column 14"
     ]
    }
   ],
   "source": [
    "import os\n",
    "import yaml\n",
    "import pandas as pd\n",
    "\n",
    "from utility import set_random_seed\n",
    "from data import load_symbol_dfs\n",
    "from combination import AlphaCombinationModel\n",
    "from tokenizer import AlphaTokenizer\n",
    "from alpha_generation_env import AlphaGenerationEnv\n",
    "from generator import RLAlphaGenerator\n",
    "import pathlib\n",
    "from glob import glob\n",
    "\n",
    "config_path = \"config.yaml\"\n",
    "\n",
    "with open(config_path, \"r\") as f:\n",
    "    cfg = yaml.safe_load(f)\n",
    "\n",
    "set_random_seed(cfg.get(\"random_seed\", 42))"
   ]
  },
  {
   "cell_type": "code",
   "execution_count": 15,
   "id": "5a177c76",
   "metadata": {},
   "outputs": [],
   "source": [
    "data_dict = cfg[\"data\"]\n",
    "\n",
    "n = data_dict[\"n\"]\n",
    "\n",
    "symbol_dict = data_dict[\"symbol\"]\n",
    "path = data_dict[\"path\"]\n",
    "\n",
    "start_date, end_date = data_dict[\"date_range\"][0], data_dict[\"date_range\"][1]"
   ]
  },
  {
   "cell_type": "code",
   "execution_count": null,
   "id": "3f4517f4",
   "metadata": {},
   "outputs": [],
   "source": [
    "from data import load_symbol_dfs\n",
    "\n",
    "data_dfs = load_symbol_dfs(\n",
    "    directory=path, symbols=symbol_dict, start_date=start_date, end_date=end_date, n=n\n",
    ")\n",
    "\n",
    "data = pd.concat(data_dfs[\"rb\"])"
   ]
  },
  {
   "cell_type": "code",
   "execution_count": null,
   "id": "ba6cd700",
   "metadata": {},
   "outputs": [],
   "source": []
  }
 ],
 "metadata": {
  "kernelspec": {
   "display_name": ".venv",
   "language": "python",
   "name": "python3"
  },
  "language_info": {
   "codemirror_mode": {
    "name": "ipython",
    "version": 3
   },
   "file_extension": ".py",
   "mimetype": "text/x-python",
   "name": "python",
   "nbconvert_exporter": "python",
   "pygments_lexer": "ipython3",
   "version": "3.13.0"
  }
 },
 "nbformat": 4,
 "nbformat_minor": 5
}
